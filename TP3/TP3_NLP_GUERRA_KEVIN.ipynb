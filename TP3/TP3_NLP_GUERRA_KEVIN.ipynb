{
 "cells": [
  {
   "attachments": {},
   "cell_type": "markdown",
   "metadata": {},
   "source": [
    "### NLP TP3"
   ]
  },
  {
   "attachments": {},
   "cell_type": "markdown",
   "metadata": {},
   "source": [
    "El dataset utilizado es sobre el review de la pagina 'tripadvisor' (empresa que peemite planificar viajes a traves de agencias de viajes en linea)"
   ]
  },
  {
   "cell_type": "code",
   "execution_count": 1,
   "metadata": {},
   "outputs": [],
   "source": [
    "import os\n",
    "import platform\n",
    "\n",
    "import pandas as pd\n",
    "import matplotlib.pyplot as plt\n",
    "import seaborn as sns\n",
    "\n",
    "import multiprocessing\n",
    "from gensim.models import Word2Vec\n",
    "\n",
    "from keras.preprocessing.text import text_to_word_sequence"
   ]
  },
  {
   "attachments": {},
   "cell_type": "markdown",
   "metadata": {},
   "source": [
    "Lectura de dataset"
   ]
  },
  {
   "cell_type": "code",
   "execution_count": 2,
   "metadata": {},
   "outputs": [
    {
     "data": {
      "text/html": [
       "<div>\n",
       "<style scoped>\n",
       "    .dataframe tbody tr th:only-of-type {\n",
       "        vertical-align: middle;\n",
       "    }\n",
       "\n",
       "    .dataframe tbody tr th {\n",
       "        vertical-align: top;\n",
       "    }\n",
       "\n",
       "    .dataframe thead th {\n",
       "        text-align: right;\n",
       "    }\n",
       "</style>\n",
       "<table border=\"1\" class=\"dataframe\">\n",
       "  <thead>\n",
       "    <tr style=\"text-align: right;\">\n",
       "      <th></th>\n",
       "      <th>rating_review</th>\n",
       "      <th>review_full</th>\n",
       "    </tr>\n",
       "  </thead>\n",
       "  <tbody>\n",
       "    <tr>\n",
       "      <th>0</th>\n",
       "      <td>5</td>\n",
       "      <td>Totally in love with the Auro of the place, re...</td>\n",
       "    </tr>\n",
       "    <tr>\n",
       "      <th>1</th>\n",
       "      <td>5</td>\n",
       "      <td>I went this bar 8 days regularly with my husba...</td>\n",
       "    </tr>\n",
       "    <tr>\n",
       "      <th>2</th>\n",
       "      <td>5</td>\n",
       "      <td>We were few friends and was a birthday celebra...</td>\n",
       "    </tr>\n",
       "    <tr>\n",
       "      <th>3</th>\n",
       "      <td>5</td>\n",
       "      <td>Fatjar Cafe and Market is the perfect place fo...</td>\n",
       "    </tr>\n",
       "    <tr>\n",
       "      <th>4</th>\n",
       "      <td>5</td>\n",
       "      <td>Hey Guys, if you are craving for pizza and sea...</td>\n",
       "    </tr>\n",
       "  </tbody>\n",
       "</table>\n",
       "</div>"
      ],
      "text/plain": [
       "   rating_review                                        review_full\n",
       "0              5  Totally in love with the Auro of the place, re...\n",
       "1              5  I went this bar 8 days regularly with my husba...\n",
       "2              5  We were few friends and was a birthday celebra...\n",
       "3              5  Fatjar Cafe and Market is the perfect place fo...\n",
       "4              5  Hey Guys, if you are craving for pizza and sea..."
      ]
     },
     "execution_count": 2,
     "metadata": {},
     "output_type": "execute_result"
    }
   ],
   "source": [
    "df = pd.read_csv('dataset/tripadvisor_reviews.csv')\n",
    "\n",
    "df.head()"
   ]
  },
  {
   "cell_type": "code",
   "execution_count": 3,
   "metadata": {},
   "outputs": [
    {
     "data": {
      "text/plain": [
       "\"Totally in love with the Auro of the place, really beautiful and quite fancy at the same time. The ambience is very pure and gives a sense of positivity throughout. Outdoor and indoor interior are quite quaint and cute. Love the open kitchen idea and there whole marketplace ideology. Due to coronovirus they specifically use disposable cutlery to keep the pandemic in mind taking all the precautionary measures from the beginning of the place with the mask on their staff and using good sanitisation. The food is really amazing specially the pizza straight from the oven and the hummus and pita bread are quite delicious too. If you're looking for a classy yet soothing Italian place in Delhi,Fatjar is a go to for you!\""
      ]
     },
     "execution_count": 3,
     "metadata": {},
     "output_type": "execute_result"
    }
   ],
   "source": [
    "df['review_full'][0]"
   ]
  },
  {
   "attachments": {},
   "cell_type": "markdown",
   "metadata": {},
   "source": [
    "Revision de la cantidad de reviews para cada puntuación (1 al 5)"
   ]
  },
  {
   "cell_type": "code",
   "execution_count": 4,
   "metadata": {},
   "outputs": [
    {
     "data": {
      "text/plain": [
       "rating_review\n",
       "5    72390\n",
       "4    50248\n",
       "3    15936\n",
       "2     4552\n",
       "1     4455\n",
       "Name: count, dtype: int64"
      ]
     },
     "execution_count": 4,
     "metadata": {},
     "output_type": "execute_result"
    }
   ],
   "source": [
    "df['rating_review'].value_counts()"
   ]
  },
  {
   "attachments": {},
   "cell_type": "markdown",
   "metadata": {},
   "source": [
    "Se toma los review con rating 1"
   ]
  },
  {
   "cell_type": "code",
   "execution_count": 5,
   "metadata": {},
   "outputs": [
    {
     "data": {
      "text/html": [
       "<div>\n",
       "<style scoped>\n",
       "    .dataframe tbody tr th:only-of-type {\n",
       "        vertical-align: middle;\n",
       "    }\n",
       "\n",
       "    .dataframe tbody tr th {\n",
       "        vertical-align: top;\n",
       "    }\n",
       "\n",
       "    .dataframe thead th {\n",
       "        text-align: right;\n",
       "    }\n",
       "</style>\n",
       "<table border=\"1\" class=\"dataframe\">\n",
       "  <thead>\n",
       "    <tr style=\"text-align: right;\">\n",
       "      <th></th>\n",
       "      <th>rating_review</th>\n",
       "      <th>review_full</th>\n",
       "    </tr>\n",
       "  </thead>\n",
       "  <tbody>\n",
       "    <tr>\n",
       "      <th>115</th>\n",
       "      <td>1</td>\n",
       "      <td>The service was OK and the food seemed good. E...</td>\n",
       "    </tr>\n",
       "    <tr>\n",
       "      <th>174</th>\n",
       "      <td>1</td>\n",
       "      <td>Worst experience we had in a bar so far. Cockt...</td>\n",
       "    </tr>\n",
       "    <tr>\n",
       "      <th>223</th>\n",
       "      <td>1</td>\n",
       "      <td>Good Food My Chinese Group Like This Restauran...</td>\n",
       "    </tr>\n",
       "    <tr>\n",
       "      <th>547</th>\n",
       "      <td>1</td>\n",
       "      <td>I went to Kylin to celebrate my Mom &amp; Dad's an...</td>\n",
       "    </tr>\n",
       "    <tr>\n",
       "      <th>608</th>\n",
       "      <td>1</td>\n",
       "      <td>The food at Coast Cafe last night was horrible...</td>\n",
       "    </tr>\n",
       "    <tr>\n",
       "      <th>...</th>\n",
       "      <td>...</td>\n",
       "      <td>...</td>\n",
       "    </tr>\n",
       "    <tr>\n",
       "      <th>146206</th>\n",
       "      <td>1</td>\n",
       "      <td>Annamaya was such a disappointment.The food is...</td>\n",
       "    </tr>\n",
       "    <tr>\n",
       "      <th>147092</th>\n",
       "      <td>1</td>\n",
       "      <td>We made reservations for our party of 14 to ce...</td>\n",
       "    </tr>\n",
       "    <tr>\n",
       "      <th>147333</th>\n",
       "      <td>1</td>\n",
       "      <td>I did booking with dine out and Went to the re...</td>\n",
       "    </tr>\n",
       "    <tr>\n",
       "      <th>147493</th>\n",
       "      <td>1</td>\n",
       "      <td>Food served very late and cold. Did not have e...</td>\n",
       "    </tr>\n",
       "    <tr>\n",
       "      <th>147494</th>\n",
       "      <td>1</td>\n",
       "      <td>Been here with my friends, food was below aver...</td>\n",
       "    </tr>\n",
       "  </tbody>\n",
       "</table>\n",
       "<p>4455 rows × 2 columns</p>\n",
       "</div>"
      ],
      "text/plain": [
       "        rating_review                                        review_full\n",
       "115                 1  The service was OK and the food seemed good. E...\n",
       "174                 1  Worst experience we had in a bar so far. Cockt...\n",
       "223                 1  Good Food My Chinese Group Like This Restauran...\n",
       "547                 1  I went to Kylin to celebrate my Mom & Dad's an...\n",
       "608                 1  The food at Coast Cafe last night was horrible...\n",
       "...               ...                                                ...\n",
       "146206              1  Annamaya was such a disappointment.The food is...\n",
       "147092              1  We made reservations for our party of 14 to ce...\n",
       "147333              1  I did booking with dine out and Went to the re...\n",
       "147493              1  Food served very late and cold. Did not have e...\n",
       "147494              1  Been here with my friends, food was below aver...\n",
       "\n",
       "[4455 rows x 2 columns]"
      ]
     },
     "execution_count": 5,
     "metadata": {},
     "output_type": "execute_result"
    }
   ],
   "source": [
    "sele_rating1 = df[df['rating_review']==1]\n",
    "\n",
    "sele_rating1"
   ]
  },
  {
   "attachments": {},
   "cell_type": "markdown",
   "metadata": {},
   "source": [
    "De los reviews elegidos solo se toman 1000 debido a la carga computacional que pueden representar"
   ]
  },
  {
   "cell_type": "code",
   "execution_count": 6,
   "metadata": {},
   "outputs": [
    {
     "name": "stdout",
     "output_type": "stream",
     "text": [
      "8483\n"
     ]
    },
    {
     "data": {
      "text/html": [
       "<div>\n",
       "<style scoped>\n",
       "    .dataframe tbody tr th:only-of-type {\n",
       "        vertical-align: middle;\n",
       "    }\n",
       "\n",
       "    .dataframe tbody tr th {\n",
       "        vertical-align: top;\n",
       "    }\n",
       "\n",
       "    .dataframe thead th {\n",
       "        text-align: right;\n",
       "    }\n",
       "</style>\n",
       "<table border=\"1\" class=\"dataframe\">\n",
       "  <thead>\n",
       "    <tr style=\"text-align: right;\">\n",
       "      <th></th>\n",
       "      <th>0</th>\n",
       "    </tr>\n",
       "  </thead>\n",
       "  <tbody>\n",
       "    <tr>\n",
       "      <th>0</th>\n",
       "      <td>The service was OK and the food seemed good</td>\n",
       "    </tr>\n",
       "    <tr>\n",
       "      <th>1</th>\n",
       "      <td>Except that my wife ate scallops and got a ga...</td>\n",
       "    </tr>\n",
       "    <tr>\n",
       "      <th>2</th>\n",
       "      <td>Worst experience we had in a bar so far</td>\n",
       "    </tr>\n",
       "    <tr>\n",
       "      <th>3</th>\n",
       "      <td>Cocktails with almost no alcohol inside</td>\n",
       "    </tr>\n",
       "    <tr>\n",
       "      <th>4</th>\n",
       "      <td>Clearly let them notice about it and staff di...</td>\n",
       "    </tr>\n",
       "  </tbody>\n",
       "</table>\n",
       "</div>"
      ],
      "text/plain": [
       "                                                   0\n",
       "0        The service was OK and the food seemed good\n",
       "1   Except that my wife ate scallops and got a ga...\n",
       "2            Worst experience we had in a bar so far\n",
       "3            Cocktails with almost no alcohol inside\n",
       "4   Clearly let them notice about it and staff di..."
      ]
     },
     "execution_count": 6,
     "metadata": {},
     "output_type": "execute_result"
    }
   ],
   "source": [
    "div_reviews = []\n",
    "\n",
    "for i in range(1000):\n",
    "    div_reviews = div_reviews + sele_rating1.iloc[i,1].split('.')\n",
    "    div_reviews.pop()\n",
    "        \n",
    "\n",
    "df_reviews = pd.DataFrame(div_reviews)\n",
    "\n",
    "print(len(div_reviews))\n",
    "\n",
    "df_reviews.head()\n",
    "\n"
   ]
  },
  {
   "cell_type": "code",
   "execution_count": 7,
   "metadata": {},
   "outputs": [
    {
     "name": "stdout",
     "output_type": "stream",
     "text": [
      "Cantidad de documentos: 8483\n"
     ]
    }
   ],
   "source": [
    "print(\"Cantidad de documentos:\", df_reviews.shape[0])"
   ]
  },
  {
   "cell_type": "code",
   "execution_count": 8,
   "metadata": {},
   "outputs": [],
   "source": [
    "sentence_tokens = []\n",
    "# Recorrer todas las filas y transformar las oraciones\n",
    "# en una secuencia de palabras (esto podría realizarse con NLTK o spaCy también)\n",
    "for _, row in df_reviews[:None].iterrows():\n",
    "    sentence_tokens.append(text_to_word_sequence(row[0]))"
   ]
  },
  {
   "cell_type": "code",
   "execution_count": 9,
   "metadata": {},
   "outputs": [
    {
     "data": {
      "text/plain": [
       "10"
      ]
     },
     "execution_count": 9,
     "metadata": {},
     "output_type": "execute_result"
    }
   ],
   "source": [
    "len(sentence_tokens[1])"
   ]
  },
  {
   "cell_type": "code",
   "execution_count": 10,
   "metadata": {},
   "outputs": [
    {
     "data": {
      "text/plain": [
       "['except',\n",
       " 'that',\n",
       " 'my',\n",
       " 'wife',\n",
       " 'ate',\n",
       " 'scallops',\n",
       " 'and',\n",
       " 'got',\n",
       " 'a',\n",
       " 'gastroenteritis']"
      ]
     },
     "execution_count": 10,
     "metadata": {},
     "output_type": "execute_result"
    }
   ],
   "source": [
    "# Demos un vistazo\n",
    "sentence_tokens[:2][1]"
   ]
  },
  {
   "cell_type": "code",
   "execution_count": 20,
   "metadata": {},
   "outputs": [],
   "source": [
    "from gensim.models.callbacks import CallbackAny2Vec\n",
    "# Durante el entrenamiento gensim por defecto no informa el \"loss\" en cada época\n",
    "# Sobrecargamos el callback para poder tener esta información\n",
    "class callback(CallbackAny2Vec):\n",
    "    \"\"\"\n",
    "    Callback to print loss after each epoch\n",
    "    \"\"\"\n",
    "    def __init__(self):\n",
    "        self.epoch = 0\n",
    "\n",
    "    def on_epoch_end(self, model):\n",
    "        loss = model.get_latest_training_loss()\n",
    "        if self.epoch == 0:\n",
    "            print('Loss after epoch {}: {}'.format(self.epoch, loss))\n",
    "        else:\n",
    "            print('Loss after epoch {}: {}'.format(self.epoch, loss- self.loss_previous_step))\n",
    "        self.epoch += 1\n",
    "        self.loss_previous_step = loss"
   ]
  },
  {
   "cell_type": "code",
   "execution_count": 38,
   "metadata": {},
   "outputs": [],
   "source": [
    "# Crearmos el modelo generador de vectores\n",
    "# En este caso utilizaremos la estructura modelo Skipgram\n",
    "w2v_model = Word2Vec(min_count=5,    # frecuencia mínima de palabra para incluirla en el vocabulario\n",
    "                     window=2,       # cant de palabras antes y desp de la predicha\n",
    "                     vector_size=50,       # dimensionalidad de los vectores \n",
    "                     negative=20,    # cantidad de negative samples... 0 es no se usa\n",
    "                     workers=1,      # si tienen más cores pueden cambiar este valor\n",
    "                     sg=1)           # modelo 0:CBOW  1:skipgram"
   ]
  },
  {
   "cell_type": "code",
   "execution_count": 39,
   "metadata": {},
   "outputs": [],
   "source": [
    "# Obtener el vocabulario con los tokens\n",
    "w2v_model.build_vocab(sentence_tokens)"
   ]
  },
  {
   "cell_type": "code",
   "execution_count": 40,
   "metadata": {},
   "outputs": [
    {
     "name": "stdout",
     "output_type": "stream",
     "text": [
      "Cantidad de docs en el corpus: 8483\n"
     ]
    }
   ],
   "source": [
    "# Cantidad de filas/docs encontradas en el corpus\n",
    "print(\"Cantidad de docs en el corpus:\", w2v_model.corpus_count)"
   ]
  },
  {
   "cell_type": "code",
   "execution_count": 41,
   "metadata": {},
   "outputs": [
    {
     "name": "stdout",
     "output_type": "stream",
     "text": [
      "Cantidad de words distintas en el corpus: 1892\n"
     ]
    }
   ],
   "source": [
    "# Cantidad de words encontradas en el corpus\n",
    "print(\"Cantidad de words distintas en el corpus:\", len(w2v_model.wv))"
   ]
  },
  {
   "cell_type": "code",
   "execution_count": 42,
   "metadata": {},
   "outputs": [
    {
     "name": "stdout",
     "output_type": "stream",
     "text": [
      "Loss after epoch 0: 881340.5625\n",
      "Loss after epoch 1: 634855.9375\n",
      "Loss after epoch 2: 595770.5\n",
      "Loss after epoch 3: 513201.5\n",
      "Loss after epoch 4: 510547.0\n",
      "Loss after epoch 5: 505898.0\n",
      "Loss after epoch 6: 502111.0\n",
      "Loss after epoch 7: 471652.5\n",
      "Loss after epoch 8: 464798.5\n",
      "Loss after epoch 9: 463657.5\n",
      "Loss after epoch 10: 459887.0\n",
      "Loss after epoch 11: 457241.0\n",
      "Loss after epoch 12: 455366.0\n",
      "Loss after epoch 13: 454708.0\n",
      "Loss after epoch 14: 451367.5\n",
      "Loss after epoch 15: 450208.0\n",
      "Loss after epoch 16: 430635.5\n",
      "Loss after epoch 17: 424050.0\n",
      "Loss after epoch 18: 424414.0\n",
      "Loss after epoch 19: 425453.0\n",
      "Loss after epoch 20: 421016.0\n",
      "Loss after epoch 21: 419370.0\n",
      "Loss after epoch 22: 418900.0\n",
      "Loss after epoch 23: 418706.0\n",
      "Loss after epoch 24: 415868.0\n",
      "Loss after epoch 25: 416420.0\n",
      "Loss after epoch 26: 413922.0\n",
      "Loss after epoch 27: 414489.0\n",
      "Loss after epoch 28: 412765.0\n",
      "Loss after epoch 29: 412481.0\n",
      "Loss after epoch 30: 412063.0\n",
      "Loss after epoch 31: 409192.0\n",
      "Loss after epoch 32: 409317.0\n",
      "Loss after epoch 33: 410671.0\n",
      "Loss after epoch 34: 411113.0\n",
      "Loss after epoch 35: 408449.0\n",
      "Loss after epoch 36: 399015.0\n",
      "Loss after epoch 37: 391894.0\n",
      "Loss after epoch 38: 391882.0\n",
      "Loss after epoch 39: 391630.0\n",
      "Loss after epoch 40: 391914.0\n",
      "Loss after epoch 41: 388410.0\n",
      "Loss after epoch 42: 389556.0\n",
      "Loss after epoch 43: 388752.0\n",
      "Loss after epoch 44: 387342.0\n",
      "Loss after epoch 45: 387814.0\n",
      "Loss after epoch 46: 388642.0\n",
      "Loss after epoch 47: 388780.0\n",
      "Loss after epoch 48: 386788.0\n",
      "Loss after epoch 49: 388082.0\n"
     ]
    },
    {
     "data": {
      "text/plain": [
       "(3287702, 5181300)"
      ]
     },
     "execution_count": 42,
     "metadata": {},
     "output_type": "execute_result"
    }
   ],
   "source": [
    "# Entrenamos el modelo generador de vectores\n",
    "# Utilizamos nuestro callback\n",
    "w2v_model.train(sentence_tokens,\n",
    "                 total_examples= w2v_model.corpus_count,\n",
    "                 epochs=50,\n",
    "                 compute_loss = True,\n",
    "                 callbacks=[callback()]\n",
    "                 )"
   ]
  },
  {
   "cell_type": "code",
   "execution_count": 43,
   "metadata": {},
   "outputs": [
    {
     "data": {
      "text/plain": [
       "[('12', 0.6140331029891968),\n",
       " ('acceptable', 0.6028549671173096),\n",
       " ('equivalent', 0.5951762795448303),\n",
       " ('first', 0.5649888515472412),\n",
       " ('spread', 0.5616462826728821)]"
      ]
     },
     "execution_count": 43,
     "metadata": {},
     "output_type": "execute_result"
    }
   ],
   "source": [
    "# Palabras que MÁS se relacionan con...:\n",
    "w2v_model.wv.most_similar(positive=[\"except\"], topn=5)"
   ]
  },
  {
   "cell_type": "code",
   "execution_count": 44,
   "metadata": {},
   "outputs": [],
   "source": [
    "from sklearn.decomposition import IncrementalPCA    \n",
    "from sklearn.manifold import TSNE                   \n",
    "import numpy as np                                  \n",
    "\n",
    "def reduce_dimensions(model):\n",
    "    num_dimensions = 2  \n",
    "\n",
    "    vectors = np.asarray(model.wv.vectors)\n",
    "    #labels = np.asarray(model.wv.index2word)\n",
    "    labels = np.asarray(model.wv.index_to_key)  \n",
    "\n",
    "    tsne = TSNE(n_components=num_dimensions, random_state=0)\n",
    "    vectors = tsne.fit_transform(vectors)\n",
    "\n",
    "    x_vals = [v[0] for v in vectors]\n",
    "    y_vals = [v[1] for v in vectors]\n",
    "    return x_vals, y_vals, labels"
   ]
  },
  {
   "cell_type": "code",
   "execution_count": 45,
   "metadata": {},
   "outputs": [
    {
     "data": {
      "application/vnd.plotly.v1+json": {
       "config": {
        "plotlyServerURL": "https://plot.ly"
       },
       "data": [
        {
         "hovertemplate": "x=%{x}<br>y=%{y}<br>text=%{text}<extra></extra>",
         "legendgroup": "",
         "marker": {
          "color": "#636efa",
          "symbol": "circle"
         },
         "mode": "markers+text",
         "name": "",
         "orientation": "v",
         "showlegend": false,
         "text": [
          "the",
          "and",
          "to",
          "a",
          "was",
          "i",
          "of",
          "we",
          "in",
          "for",
          "it",
          "is",
          "food",
          "not",
          "this",
          "that",
          "with",
          "they",
          "were",
          "but",
          "had",
          "on",
          "at",
          "my",
          "have",
          "restaurant",
          "as",
          "place",
          "service",
          "you",
          "there",
          "no",
          "us",
          "our",
          "very",
          "so",
          "one",
          "be",
          "which",
          "all",
          "when",
          "are",
          "table",
          "after",
          "staff",
          "if",
          "even",
          "good",
          "from",
          "me",
          "ordered",
          "he",
          "just",
          "chicken",
          "only",
          "time",
          "by",
          "their",
          "would",
          "about",
          "experience",
          "like",
          "out",
          "will",
          "or",
          "go",
          "what",
          "an",
          "manager",
          "served",
          "went",
          "came",
          "then",
          "get",
          "them",
          "order",
          "never",
          "asked",
          "more",
          "bad",
          "been",
          "here",
          "who",
          "some",
          "got",
          "up",
          "over",
          "has",
          "people",
          "again",
          "delhi",
          "really",
          "back",
          "taste",
          "menu",
          "waiter",
          "also",
          "bill",
          "2",
          "told",
          "other",
          "can",
          "any",
          "minutes",
          "hotel",
          "did",
          "too",
          "your",
          "quality",
          "don't",
          "dinner",
          "took",
          "worst",
          "meal",
          "much",
          "than",
          "could",
          "do",
          "said",
          "first",
          "because",
          "poor",
          "dish",
          "visit",
          "better",
          "being",
          "well",
          "eat",
          "indian",
          "5",
          "its",
          "made",
          "visited",
          "money",
          "ever",
          "come",
          "take",
          "know",
          "10",
          "dishes",
          "down",
          "say",
          "how",
          "around",
          "should",
          "3",
          "cold",
          "average",
          "serve",
          "same",
          "two",
          "another",
          "such",
          "am",
          "great",
          "last",
          "terrible",
          "left",
          "pathetic",
          "water",
          "1",
          "give",
          "drinks",
          "4",
          "while",
          "india",
          "day",
          "nothing",
          "way",
          "him",
          "off",
          "it's",
          "few",
          "though",
          "most",
          "times",
          "tables",
          "before",
          "going",
          "family",
          "horrible",
          "see",
          "make",
          "next",
          "course",
          "main",
          "charge",
          "his",
          "waiters",
          "decided",
          "nice",
          "evening",
          "however",
          "wait",
          "many",
          "want",
          "serving",
          "waiting",
          "now",
          "something"
         ],
         "type": "scatter",
         "x": [
          -7.750890731811523,
          -2.1822428703308105,
          -1.1418129205703735,
          -0.6626008152961731,
          -1.876312255859375,
          1.514090895652771,
          -2.151592254638672,
          1.5213350057601929,
          -1.8129805326461792,
          -2.8583173751831055,
          -2.01102614402771,
          -2.011840581893921,
          -1.0363304615020752,
          -0.9215269088745117,
          10.04262638092041,
          -4.196081638336182,
          -2.0168654918670654,
          -1.8662166595458984,
          -12.080174446105957,
          -1.9496691226959229,
          1.8975427150726318,
          -2.264209270477295,
          -2.200788974761963,
          -27.70384407043457,
          2.176374912261963,
          12.110917091369629,
          -3.4744362831115723,
          12.008928298950195,
          -6.4337029457092285,
          0.298700213432312,
          3.632647752761841,
          -24.4594669342041,
          -9.651119232177734,
          -27.51341438293457,
          -7.638995170593262,
          -2.392984390258789,
          -7.402246475219727,
          -1.5839604139328003,
          -2.3532824516296387,
          -5.641570091247559,
          -5.203716278076172,
          -12.000981330871582,
          -10.26550579071045,
          -1.7713531255722046,
          -12.44489860534668,
          2.5839149951934814,
          -3.377734661102295,
          -10.808639526367188,
          -1.523087739944458,
          -9.476694107055664,
          -17.609804153442383,
          -23.41326904296875,
          -0.5038878321647644,
          5.472654819488525,
          -0.7520347833633423,
          4.832022666931152,
          -4.182077407836914,
          -27.369876861572266,
          25.735788345336914,
          -5.952002048492432,
          9.848451614379883,
          -15.955242156982422,
          -21.613162994384766,
          25.9583740234375,
          -3.386897563934326,
          11.12674617767334,
          -3.696955680847168,
          -17.63149642944336,
          -16.259538650512695,
          -7.686562538146973,
          20.691516876220703,
          -16.261869430541992,
          -4.794356822967529,
          7.563225746154785,
          -21.769872665405273,
          -22.92896270751953,
          10.655322074890137,
          -7.4472808837890625,
          25.5554256439209,
          -4.5113959312438965,
          15.926767349243164,
          3.755584239959717,
          -14.564610481262207,
          0.5360142588615417,
          -14.565126419067383,
          -13.13308048248291,
          -0.419187992811203,
          1.8062776327133179,
          7.077011585235596,
          13.096920013427734,
          11.742676734924316,
          -1.4562448263168335,
          4.5359930992126465,
          -0.7355530858039856,
          -25.833608627319336,
          -22.878944396972656,
          -3.3823740482330322,
          -20.083707809448242,
          -16.156145095825195,
          -12.714742660522461,
          -25.81997299194336,
          25.64641761779785,
          -24.10975456237793,
          31.37944984436035,
          19.040159225463867,
          -15.798495292663574,
          -2.6957156658172607,
          -27.912607192993164,
          -0.7975679636001587,
          27.320833206176758,
          19.363353729248047,
          -23.85588264465332,
          -3.5653862953186035,
          -2.0415499210357666,
          0.19963502883911133,
          26.196969985961914,
          25.43708038330078,
          2.360593795776367,
          -9.259690284729004,
          -29.745874404907227,
          -3.1045496463775635,
          -4.853492736816406,
          7.330680847167969,
          16.356359481811523,
          10.618070602416992,
          -27.47978401184082,
          -2.9649012088775635,
          11.027920722961426,
          15.030075073242188,
          -15.995620727539062,
          -2.619725465774536,
          -0.3051488995552063,
          19.536558151245117,
          8.734177589416504,
          4.223085403442383,
          8.043858528137207,
          9.202713012695312,
          -0.12251453846693039,
          30.41769027709961,
          0.781420111656189,
          -3.8904449939727783,
          8.54308032989502,
          -6.2059221267700195,
          -2.6453895568847656,
          25.34518051147461,
          -16.204187393188477,
          18.841808319091797,
          -3.815272569656372,
          5.969938278198242,
          -16.015701293945312,
          -7.600167751312256,
          -0.5976534485816956,
          -6.195314884185791,
          22.702890396118164,
          -10.690043449401855,
          17.976612091064453,
          17.01863670349121,
          -1.152869462966919,
          -4.60148286819458,
          15.501315116882324,
          -10.492748260498047,
          10.103880882263184,
          -12.519431114196777,
          -15.759566307067871,
          -2.924957513809204,
          17.525503158569336,
          8.090117454528809,
          1.3542479276657104,
          -2.3977296352386475,
          -21.67595863342285,
          -18.41472053527832,
          -9.401162147521973,
          -16.848482131958008,
          -2.313096761703491,
          -6.804862022399902,
          1.0652644634246826,
          -10.431007385253906,
          -1.4859466552734375,
          11.524476051330566,
          16.747549057006836,
          16.938852310180664,
          11.840682029724121,
          7.361653804779053,
          -13.698454856872559,
          -21.979812622070312,
          -22.234140396118164,
          9.600406646728516,
          -27.522607803344727,
          -20.83650779724121,
          13.36349105834961,
          -9.858367919921875,
          17.27543067932129,
          -3.9024791717529297,
          -6.186558246612549,
          17.99663734436035,
          0.1462010145187378,
          -17.45701026916504,
          29.629724502563477,
          -0.6846264004707336,
          0.7965930104255676
         ],
         "xaxis": "x",
         "y": [
          3.056065320968628,
          6.677935600280762,
          5.530153274536133,
          6.7835235595703125,
          -6.260429859161377,
          7.766395568847656,
          7.697973251342773,
          7.857068061828613,
          8.114615440368652,
          8.270820617675781,
          3.2183873653411865,
          -6.4396538734436035,
          -11.080336570739746,
          2.2870888710021973,
          -1.2370303869247437,
          3.3621573448181152,
          7.524672508239746,
          3.622041940689087,
          24.66248321533203,
          5.506473064422607,
          10.182393074035645,
          9.117762565612793,
          8.386107444763184,
          4.464974403381348,
          9.930546760559082,
          -2.999389410018921,
          5.446705341339111,
          -3.154508352279663,
          -12.695556640625,
          1.7395108938217163,
          6.302480697631836,
          -14.38752269744873,
          15.029977798461914,
          4.611223220825195,
          -13.439599990844727,
          4.887814521789551,
          2.7805075645446777,
          3.187098503112793,
          6.187558650970459,
          2.08375883102417,
          4.6762919425964355,
          24.63814926147461,
          15.549877166748047,
          9.889859199523926,
          -8.373476028442383,
          -0.6519577503204346,
          1.578575849533081,
          -20.326398849487305,
          8.574804306030273,
          14.691094398498535,
          22.59170913696289,
          9.452454566955566,
          4.286858558654785,
          -28.83680534362793,
          5.896468639373779,
          7.406350135803223,
          9.094539642333984,
          2.615541934967041,
          -9.561521530151367,
          7.08740758895874,
          7.7284111976623535,
          -11.973304748535156,
          -2.277993679046631,
          -9.727672576904297,
          7.578470230102539,
          0.7314058542251587,
          2.4095072746276855,
          -11.565858840942383,
          1.1571253538131714,
          17.937938690185547,
          3.2034316062927246,
          21.138505935668945,
          6.860733985900879,
          25.89878273010254,
          11.133142471313477,
          18.51214599609375,
          2.642937421798706,
          28.75640106201172,
          -2.0355498790740967,
          -15.033269882202148,
          1.6912025213241577,
          6.391839027404785,
          2.284611940383911,
          6.2980241775512695,
          20.76348304748535,
          2.159468173980713,
          28.445497512817383,
          10.43100643157959,
          18.777170181274414,
          16.876420974731445,
          -8.13107681274414,
          4.40900182723999,
          13.481473922729492,
          -18.884180068969727,
          10.995377540588379,
          7.919764995574951,
          5.922735214233398,
          6.74146842956543,
          29.365182876586914,
          10.114466667175293,
          -10.432225227355957,
          -10.06118392944336,
          -16.50641632080078,
          5.544064044952393,
          -4.263590335845947,
          -22.52811050415039,
          -23.757593154907227,
          2.354100227355957,
          -18.851585388183594,
          -11.72454833984375,
          9.74892520904541,
          2.079479694366455,
          -9.371439933776855,
          14.657605171203613,
          -5.964442253112793,
          -1.4495224952697754,
          -10.26065731048584,
          -3.5448739528656006,
          8.523422241210938,
          -2.638326406478882,
          4.640258312225342,
          -14.76962661743164,
          -26.610105514526367,
          6.345621585845947,
          -8.42161750793457,
          14.138099670410156,
          3.437016487121582,
          9.957254409790039,
          -13.220263481140137,
          29.682241439819336,
          -6.490342140197754,
          19.27240562438965,
          2.317112684249878,
          3.873389959335327,
          10.13617992401123,
          25.62826919555664,
          22.459327697753906,
          -3.4042489528656006,
          2.983926296234131,
          -21.92290687561035,
          5.480669975280762,
          6.012320041656494,
          -2.8898558616638184,
          27.921327590942383,
          -9.618586540222168,
          29.068614959716797,
          -18.173429489135742,
          -18.218109130859375,
          28.056974411010742,
          6.994953632354736,
          24.03899383544922,
          6.995321273803711,
          -9.710780143737793,
          -0.6681995987892151,
          -19.906415939331055,
          14.464409828186035,
          26.467304229736328,
          20.007164001464844,
          -16.21585464477539,
          -18.451906204223633,
          31.228132247924805,
          22.452922821044922,
          18.405086517333984,
          28.31170654296875,
          6.83135461807251,
          -10.9608793258667,
          10.321176528930664,
          -7.786921977996826,
          21.36098289489746,
          11.144017219543457,
          -5.1951704025268555,
          -24.947254180908203,
          30.285015106201172,
          5.583407878875732,
          -23.105548858642578,
          11.84350299835205,
          15.964423179626465,
          9.912154197692871,
          0.5845655202865601,
          10.557943344116211,
          26.492755889892578,
          25.195283889770508,
          25.82701301574707,
          16.98030662536621,
          22.129314422607422,
          21.629844665527344,
          -11.67103385925293,
          4.171072006225586,
          0.16147616505622864,
          23.841503143310547,
          -19.165742874145508,
          6.870789051055908,
          6.343592643737793,
          27.90449333190918,
          22.847436904907227,
          -3.3506267070770264,
          12.6651611328125,
          8.82198429107666,
          0.546177864074707,
          2.721743106842041
         ],
         "yaxis": "y"
        }
       ],
       "layout": {
        "legend": {
         "tracegroupgap": 0
        },
        "margin": {
         "t": 60
        },
        "template": {
         "data": {
          "bar": [
           {
            "error_x": {
             "color": "#2a3f5f"
            },
            "error_y": {
             "color": "#2a3f5f"
            },
            "marker": {
             "line": {
              "color": "#E5ECF6",
              "width": 0.5
             },
             "pattern": {
              "fillmode": "overlay",
              "size": 10,
              "solidity": 0.2
             }
            },
            "type": "bar"
           }
          ],
          "barpolar": [
           {
            "marker": {
             "line": {
              "color": "#E5ECF6",
              "width": 0.5
             },
             "pattern": {
              "fillmode": "overlay",
              "size": 10,
              "solidity": 0.2
             }
            },
            "type": "barpolar"
           }
          ],
          "carpet": [
           {
            "aaxis": {
             "endlinecolor": "#2a3f5f",
             "gridcolor": "white",
             "linecolor": "white",
             "minorgridcolor": "white",
             "startlinecolor": "#2a3f5f"
            },
            "baxis": {
             "endlinecolor": "#2a3f5f",
             "gridcolor": "white",
             "linecolor": "white",
             "minorgridcolor": "white",
             "startlinecolor": "#2a3f5f"
            },
            "type": "carpet"
           }
          ],
          "choropleth": [
           {
            "colorbar": {
             "outlinewidth": 0,
             "ticks": ""
            },
            "type": "choropleth"
           }
          ],
          "contour": [
           {
            "colorbar": {
             "outlinewidth": 0,
             "ticks": ""
            },
            "colorscale": [
             [
              0,
              "#0d0887"
             ],
             [
              0.1111111111111111,
              "#46039f"
             ],
             [
              0.2222222222222222,
              "#7201a8"
             ],
             [
              0.3333333333333333,
              "#9c179e"
             ],
             [
              0.4444444444444444,
              "#bd3786"
             ],
             [
              0.5555555555555556,
              "#d8576b"
             ],
             [
              0.6666666666666666,
              "#ed7953"
             ],
             [
              0.7777777777777778,
              "#fb9f3a"
             ],
             [
              0.8888888888888888,
              "#fdca26"
             ],
             [
              1,
              "#f0f921"
             ]
            ],
            "type": "contour"
           }
          ],
          "contourcarpet": [
           {
            "colorbar": {
             "outlinewidth": 0,
             "ticks": ""
            },
            "type": "contourcarpet"
           }
          ],
          "heatmap": [
           {
            "colorbar": {
             "outlinewidth": 0,
             "ticks": ""
            },
            "colorscale": [
             [
              0,
              "#0d0887"
             ],
             [
              0.1111111111111111,
              "#46039f"
             ],
             [
              0.2222222222222222,
              "#7201a8"
             ],
             [
              0.3333333333333333,
              "#9c179e"
             ],
             [
              0.4444444444444444,
              "#bd3786"
             ],
             [
              0.5555555555555556,
              "#d8576b"
             ],
             [
              0.6666666666666666,
              "#ed7953"
             ],
             [
              0.7777777777777778,
              "#fb9f3a"
             ],
             [
              0.8888888888888888,
              "#fdca26"
             ],
             [
              1,
              "#f0f921"
             ]
            ],
            "type": "heatmap"
           }
          ],
          "heatmapgl": [
           {
            "colorbar": {
             "outlinewidth": 0,
             "ticks": ""
            },
            "colorscale": [
             [
              0,
              "#0d0887"
             ],
             [
              0.1111111111111111,
              "#46039f"
             ],
             [
              0.2222222222222222,
              "#7201a8"
             ],
             [
              0.3333333333333333,
              "#9c179e"
             ],
             [
              0.4444444444444444,
              "#bd3786"
             ],
             [
              0.5555555555555556,
              "#d8576b"
             ],
             [
              0.6666666666666666,
              "#ed7953"
             ],
             [
              0.7777777777777778,
              "#fb9f3a"
             ],
             [
              0.8888888888888888,
              "#fdca26"
             ],
             [
              1,
              "#f0f921"
             ]
            ],
            "type": "heatmapgl"
           }
          ],
          "histogram": [
           {
            "marker": {
             "pattern": {
              "fillmode": "overlay",
              "size": 10,
              "solidity": 0.2
             }
            },
            "type": "histogram"
           }
          ],
          "histogram2d": [
           {
            "colorbar": {
             "outlinewidth": 0,
             "ticks": ""
            },
            "colorscale": [
             [
              0,
              "#0d0887"
             ],
             [
              0.1111111111111111,
              "#46039f"
             ],
             [
              0.2222222222222222,
              "#7201a8"
             ],
             [
              0.3333333333333333,
              "#9c179e"
             ],
             [
              0.4444444444444444,
              "#bd3786"
             ],
             [
              0.5555555555555556,
              "#d8576b"
             ],
             [
              0.6666666666666666,
              "#ed7953"
             ],
             [
              0.7777777777777778,
              "#fb9f3a"
             ],
             [
              0.8888888888888888,
              "#fdca26"
             ],
             [
              1,
              "#f0f921"
             ]
            ],
            "type": "histogram2d"
           }
          ],
          "histogram2dcontour": [
           {
            "colorbar": {
             "outlinewidth": 0,
             "ticks": ""
            },
            "colorscale": [
             [
              0,
              "#0d0887"
             ],
             [
              0.1111111111111111,
              "#46039f"
             ],
             [
              0.2222222222222222,
              "#7201a8"
             ],
             [
              0.3333333333333333,
              "#9c179e"
             ],
             [
              0.4444444444444444,
              "#bd3786"
             ],
             [
              0.5555555555555556,
              "#d8576b"
             ],
             [
              0.6666666666666666,
              "#ed7953"
             ],
             [
              0.7777777777777778,
              "#fb9f3a"
             ],
             [
              0.8888888888888888,
              "#fdca26"
             ],
             [
              1,
              "#f0f921"
             ]
            ],
            "type": "histogram2dcontour"
           }
          ],
          "mesh3d": [
           {
            "colorbar": {
             "outlinewidth": 0,
             "ticks": ""
            },
            "type": "mesh3d"
           }
          ],
          "parcoords": [
           {
            "line": {
             "colorbar": {
              "outlinewidth": 0,
              "ticks": ""
             }
            },
            "type": "parcoords"
           }
          ],
          "pie": [
           {
            "automargin": true,
            "type": "pie"
           }
          ],
          "scatter": [
           {
            "fillpattern": {
             "fillmode": "overlay",
             "size": 10,
             "solidity": 0.2
            },
            "type": "scatter"
           }
          ],
          "scatter3d": [
           {
            "line": {
             "colorbar": {
              "outlinewidth": 0,
              "ticks": ""
             }
            },
            "marker": {
             "colorbar": {
              "outlinewidth": 0,
              "ticks": ""
             }
            },
            "type": "scatter3d"
           }
          ],
          "scattercarpet": [
           {
            "marker": {
             "colorbar": {
              "outlinewidth": 0,
              "ticks": ""
             }
            },
            "type": "scattercarpet"
           }
          ],
          "scattergeo": [
           {
            "marker": {
             "colorbar": {
              "outlinewidth": 0,
              "ticks": ""
             }
            },
            "type": "scattergeo"
           }
          ],
          "scattergl": [
           {
            "marker": {
             "colorbar": {
              "outlinewidth": 0,
              "ticks": ""
             }
            },
            "type": "scattergl"
           }
          ],
          "scattermapbox": [
           {
            "marker": {
             "colorbar": {
              "outlinewidth": 0,
              "ticks": ""
             }
            },
            "type": "scattermapbox"
           }
          ],
          "scatterpolar": [
           {
            "marker": {
             "colorbar": {
              "outlinewidth": 0,
              "ticks": ""
             }
            },
            "type": "scatterpolar"
           }
          ],
          "scatterpolargl": [
           {
            "marker": {
             "colorbar": {
              "outlinewidth": 0,
              "ticks": ""
             }
            },
            "type": "scatterpolargl"
           }
          ],
          "scatterternary": [
           {
            "marker": {
             "colorbar": {
              "outlinewidth": 0,
              "ticks": ""
             }
            },
            "type": "scatterternary"
           }
          ],
          "surface": [
           {
            "colorbar": {
             "outlinewidth": 0,
             "ticks": ""
            },
            "colorscale": [
             [
              0,
              "#0d0887"
             ],
             [
              0.1111111111111111,
              "#46039f"
             ],
             [
              0.2222222222222222,
              "#7201a8"
             ],
             [
              0.3333333333333333,
              "#9c179e"
             ],
             [
              0.4444444444444444,
              "#bd3786"
             ],
             [
              0.5555555555555556,
              "#d8576b"
             ],
             [
              0.6666666666666666,
              "#ed7953"
             ],
             [
              0.7777777777777778,
              "#fb9f3a"
             ],
             [
              0.8888888888888888,
              "#fdca26"
             ],
             [
              1,
              "#f0f921"
             ]
            ],
            "type": "surface"
           }
          ],
          "table": [
           {
            "cells": {
             "fill": {
              "color": "#EBF0F8"
             },
             "line": {
              "color": "white"
             }
            },
            "header": {
             "fill": {
              "color": "#C8D4E3"
             },
             "line": {
              "color": "white"
             }
            },
            "type": "table"
           }
          ]
         },
         "layout": {
          "annotationdefaults": {
           "arrowcolor": "#2a3f5f",
           "arrowhead": 0,
           "arrowwidth": 1
          },
          "autotypenumbers": "strict",
          "coloraxis": {
           "colorbar": {
            "outlinewidth": 0,
            "ticks": ""
           }
          },
          "colorscale": {
           "diverging": [
            [
             0,
             "#8e0152"
            ],
            [
             0.1,
             "#c51b7d"
            ],
            [
             0.2,
             "#de77ae"
            ],
            [
             0.3,
             "#f1b6da"
            ],
            [
             0.4,
             "#fde0ef"
            ],
            [
             0.5,
             "#f7f7f7"
            ],
            [
             0.6,
             "#e6f5d0"
            ],
            [
             0.7,
             "#b8e186"
            ],
            [
             0.8,
             "#7fbc41"
            ],
            [
             0.9,
             "#4d9221"
            ],
            [
             1,
             "#276419"
            ]
           ],
           "sequential": [
            [
             0,
             "#0d0887"
            ],
            [
             0.1111111111111111,
             "#46039f"
            ],
            [
             0.2222222222222222,
             "#7201a8"
            ],
            [
             0.3333333333333333,
             "#9c179e"
            ],
            [
             0.4444444444444444,
             "#bd3786"
            ],
            [
             0.5555555555555556,
             "#d8576b"
            ],
            [
             0.6666666666666666,
             "#ed7953"
            ],
            [
             0.7777777777777778,
             "#fb9f3a"
            ],
            [
             0.8888888888888888,
             "#fdca26"
            ],
            [
             1,
             "#f0f921"
            ]
           ],
           "sequentialminus": [
            [
             0,
             "#0d0887"
            ],
            [
             0.1111111111111111,
             "#46039f"
            ],
            [
             0.2222222222222222,
             "#7201a8"
            ],
            [
             0.3333333333333333,
             "#9c179e"
            ],
            [
             0.4444444444444444,
             "#bd3786"
            ],
            [
             0.5555555555555556,
             "#d8576b"
            ],
            [
             0.6666666666666666,
             "#ed7953"
            ],
            [
             0.7777777777777778,
             "#fb9f3a"
            ],
            [
             0.8888888888888888,
             "#fdca26"
            ],
            [
             1,
             "#f0f921"
            ]
           ]
          },
          "colorway": [
           "#636efa",
           "#EF553B",
           "#00cc96",
           "#ab63fa",
           "#FFA15A",
           "#19d3f3",
           "#FF6692",
           "#B6E880",
           "#FF97FF",
           "#FECB52"
          ],
          "font": {
           "color": "#2a3f5f"
          },
          "geo": {
           "bgcolor": "white",
           "lakecolor": "white",
           "landcolor": "#E5ECF6",
           "showlakes": true,
           "showland": true,
           "subunitcolor": "white"
          },
          "hoverlabel": {
           "align": "left"
          },
          "hovermode": "closest",
          "mapbox": {
           "style": "light"
          },
          "paper_bgcolor": "white",
          "plot_bgcolor": "#E5ECF6",
          "polar": {
           "angularaxis": {
            "gridcolor": "white",
            "linecolor": "white",
            "ticks": ""
           },
           "bgcolor": "#E5ECF6",
           "radialaxis": {
            "gridcolor": "white",
            "linecolor": "white",
            "ticks": ""
           }
          },
          "scene": {
           "xaxis": {
            "backgroundcolor": "#E5ECF6",
            "gridcolor": "white",
            "gridwidth": 2,
            "linecolor": "white",
            "showbackground": true,
            "ticks": "",
            "zerolinecolor": "white"
           },
           "yaxis": {
            "backgroundcolor": "#E5ECF6",
            "gridcolor": "white",
            "gridwidth": 2,
            "linecolor": "white",
            "showbackground": true,
            "ticks": "",
            "zerolinecolor": "white"
           },
           "zaxis": {
            "backgroundcolor": "#E5ECF6",
            "gridcolor": "white",
            "gridwidth": 2,
            "linecolor": "white",
            "showbackground": true,
            "ticks": "",
            "zerolinecolor": "white"
           }
          },
          "shapedefaults": {
           "line": {
            "color": "#2a3f5f"
           }
          },
          "ternary": {
           "aaxis": {
            "gridcolor": "white",
            "linecolor": "white",
            "ticks": ""
           },
           "baxis": {
            "gridcolor": "white",
            "linecolor": "white",
            "ticks": ""
           },
           "bgcolor": "#E5ECF6",
           "caxis": {
            "gridcolor": "white",
            "linecolor": "white",
            "ticks": ""
           }
          },
          "title": {
           "x": 0.05
          },
          "xaxis": {
           "automargin": true,
           "gridcolor": "white",
           "linecolor": "white",
           "ticks": "",
           "title": {
            "standoff": 15
           },
           "zerolinecolor": "white",
           "zerolinewidth": 2
          },
          "yaxis": {
           "automargin": true,
           "gridcolor": "white",
           "linecolor": "white",
           "ticks": "",
           "title": {
            "standoff": 15
           },
           "zerolinecolor": "white",
           "zerolinewidth": 2
          }
         }
        },
        "xaxis": {
         "anchor": "y",
         "domain": [
          0,
          1
         ],
         "title": {
          "text": "x"
         }
        },
        "yaxis": {
         "anchor": "x",
         "domain": [
          0,
          1
         ],
         "title": {
          "text": "y"
         }
        }
       }
      }
     },
     "metadata": {},
     "output_type": "display_data"
    }
   ],
   "source": [
    "# Graficar los embedddings en 2D\n",
    "import plotly.graph_objects as go\n",
    "import plotly.express as px\n",
    "\n",
    "x_vals, y_vals, labels = reduce_dimensions(w2v_model)\n",
    "\n",
    "MAX_WORDS=200\n",
    "fig = px.scatter(x=x_vals[:MAX_WORDS], y=y_vals[:MAX_WORDS], text=labels[:MAX_WORDS])\n",
    "fig.show() # esto para plotly en colab"
   ]
  },
  {
   "attachments": {},
   "cell_type": "markdown",
   "metadata": {},
   "source": [
    "Conclusiones:\n",
    "\n",
    "- A mayor dimensionalidad la perdida por epoca es mas bajo.\n",
    "\n",
    "- Se observa similitud entre varias palabras claves como, should, great, make, place, etc\n",
    "\n",
    "- Disminuir el vector del embedding menos de 50, lo caul es el punto estable entre la carga computacional y la 'loss' alcanzada.\n",
    "\n",
    "- Aumentar el tamaño de la ventana contextual, por encima de 4, disminuye ligeramente el rendimiento del embbeding.\n"
   ]
  }
 ],
 "metadata": {
  "kernelspec": {
   "display_name": "venvi_nlp",
   "language": "python",
   "name": "python3"
  },
  "language_info": {
   "codemirror_mode": {
    "name": "ipython",
    "version": 3
   },
   "file_extension": ".py",
   "mimetype": "text/x-python",
   "name": "python",
   "nbconvert_exporter": "python",
   "pygments_lexer": "ipython3",
   "version": "3.9.13"
  },
  "orig_nbformat": 4
 },
 "nbformat": 4,
 "nbformat_minor": 2
}
