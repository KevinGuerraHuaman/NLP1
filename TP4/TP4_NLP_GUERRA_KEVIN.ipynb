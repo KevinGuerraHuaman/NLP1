{
 "cells": [
  {
   "cell_type": "code",
   "execution_count": 1,
   "metadata": {},
   "outputs": [
    {
     "name": "stderr",
     "output_type": "stream",
     "text": [
      "c:\\Users\\PC-01\\Documents\\ENTORNOS_PYTHON\\venvi_NLP\\lib\\site-packages\\tqdm\\auto.py:21: TqdmWarning: IProgress not found. Please update jupyter and ipywidgets. See https://ipywidgets.readthedocs.io/en/stable/user_install.html\n",
      "  from .autonotebook import tqdm as notebook_tqdm\n"
     ]
    }
   ],
   "source": [
    "import os\n",
    "import pandas as pd\n",
    "from keras.preprocessing.text import text_to_word_sequence\n",
    "import numpy as np\n",
    "import torch\n",
    "import torch.nn.functional as F\n",
    "from torch.utils.data import Dataset, DataLoader\n",
    "import torch.nn as nn\n",
    "from torchinfo import summary"
   ]
  },
  {
   "cell_type": "code",
   "execution_count": 2,
   "metadata": {},
   "outputs": [
    {
     "data": {
      "text/plain": [
       "device(type='cuda')"
      ]
     },
     "execution_count": 2,
     "metadata": {},
     "output_type": "execute_result"
    }
   ],
   "source": [
    "cuda = torch.cuda.is_available()\n",
    "device = torch.device('cuda' if torch.cuda.is_available() else 'cpu')\n",
    "device"
   ]
  },
  {
   "cell_type": "code",
   "execution_count": 3,
   "metadata": {},
   "outputs": [
    {
     "data": {
      "text/plain": [
       "True"
      ]
     },
     "execution_count": 3,
     "metadata": {},
     "output_type": "execute_result"
    }
   ],
   "source": [
    "cuda"
   ]
  },
  {
   "cell_type": "code",
   "execution_count": 4,
   "metadata": {},
   "outputs": [],
   "source": [
    "import os\n",
    "import platform\n",
    "\n",
    "if os.access('torch_helpers.py', os.F_OK) is False:\n",
    "    if platform.system() == 'Windows':\n",
    "        !curl !wget https://raw.githubusercontent.com/FIUBA-Posgrado-Inteligencia-Artificial/procesamiento_lenguaje_natural/main/scripts/torch_helpers.py > torch_helpers.py\n",
    "    else:\n",
    "        !wget torch_helpers.py https://raw.githubusercontent.com/FIUBA-Posgrado-Inteligencia-Artificial/procesamiento_lenguaje_natural/main/scripts/torch_helpers.py"
   ]
  },
  {
   "cell_type": "code",
   "execution_count": 5,
   "metadata": {},
   "outputs": [
    {
     "data": {
      "text/html": [
       "<div>\n",
       "<style scoped>\n",
       "    .dataframe tbody tr th:only-of-type {\n",
       "        vertical-align: middle;\n",
       "    }\n",
       "\n",
       "    .dataframe tbody tr th {\n",
       "        vertical-align: top;\n",
       "    }\n",
       "\n",
       "    .dataframe thead th {\n",
       "        text-align: right;\n",
       "    }\n",
       "</style>\n",
       "<table border=\"1\" class=\"dataframe\">\n",
       "  <thead>\n",
       "    <tr style=\"text-align: right;\">\n",
       "      <th></th>\n",
       "      <th>rating_review</th>\n",
       "      <th>review_full</th>\n",
       "    </tr>\n",
       "  </thead>\n",
       "  <tbody>\n",
       "    <tr>\n",
       "      <th>0</th>\n",
       "      <td>5</td>\n",
       "      <td>Totally in love with the Auro of the place, re...</td>\n",
       "    </tr>\n",
       "    <tr>\n",
       "      <th>1</th>\n",
       "      <td>5</td>\n",
       "      <td>I went this bar 8 days regularly with my husba...</td>\n",
       "    </tr>\n",
       "    <tr>\n",
       "      <th>2</th>\n",
       "      <td>5</td>\n",
       "      <td>We were few friends and was a birthday celebra...</td>\n",
       "    </tr>\n",
       "    <tr>\n",
       "      <th>3</th>\n",
       "      <td>5</td>\n",
       "      <td>Fatjar Cafe and Market is the perfect place fo...</td>\n",
       "    </tr>\n",
       "    <tr>\n",
       "      <th>4</th>\n",
       "      <td>5</td>\n",
       "      <td>Hey Guys, if you are craving for pizza and sea...</td>\n",
       "    </tr>\n",
       "  </tbody>\n",
       "</table>\n",
       "</div>"
      ],
      "text/plain": [
       "   rating_review                                        review_full\n",
       "0              5  Totally in love with the Auro of the place, re...\n",
       "1              5  I went this bar 8 days regularly with my husba...\n",
       "2              5  We were few friends and was a birthday celebra...\n",
       "3              5  Fatjar Cafe and Market is the perfect place fo...\n",
       "4              5  Hey Guys, if you are craving for pizza and sea..."
      ]
     },
     "execution_count": 5,
     "metadata": {},
     "output_type": "execute_result"
    }
   ],
   "source": [
    "# Lectura de dataset\n",
    "df = pd.read_csv('dataset/tripadvisor_reviews.csv')\n",
    "df.head()"
   ]
  },
  {
   "cell_type": "code",
   "execution_count": 6,
   "metadata": {},
   "outputs": [
    {
     "name": "stdout",
     "output_type": "stream",
     "text": [
      "Tamaño:  (147581, 2)\n"
     ]
    }
   ],
   "source": [
    "print('Tamaño: ', df.shape)"
   ]
  },
  {
   "cell_type": "code",
   "execution_count": 7,
   "metadata": {},
   "outputs": [
    {
     "name": "stdout",
     "output_type": "stream",
     "text": [
      "Cantidad de documentos: 147581\n"
     ]
    }
   ],
   "source": [
    "print(\"Cantidad de documentos:\", df.shape[0])"
   ]
  },
  {
   "cell_type": "code",
   "execution_count": 8,
   "metadata": {},
   "outputs": [
    {
     "data": {
      "text/plain": [
       "rating_review\n",
       "5    72390\n",
       "4    50248\n",
       "3    15936\n",
       "2     4552\n",
       "1     4455\n",
       "Name: count, dtype: int64"
      ]
     },
     "execution_count": 8,
     "metadata": {},
     "output_type": "execute_result"
    }
   ],
   "source": [
    "df['rating_review'].value_counts()"
   ]
  },
  {
   "cell_type": "code",
   "execution_count": 9,
   "metadata": {},
   "outputs": [
    {
     "name": "stdout",
     "output_type": "stream",
     "text": [
      "Tamaño de comentarios:  4455\n",
      "Numero de oraciones(documentos):  8483\n"
     ]
    },
    {
     "data": {
      "text/html": [
       "<div>\n",
       "<style scoped>\n",
       "    .dataframe tbody tr th:only-of-type {\n",
       "        vertical-align: middle;\n",
       "    }\n",
       "\n",
       "    .dataframe tbody tr th {\n",
       "        vertical-align: top;\n",
       "    }\n",
       "\n",
       "    .dataframe thead th {\n",
       "        text-align: right;\n",
       "    }\n",
       "</style>\n",
       "<table border=\"1\" class=\"dataframe\">\n",
       "  <thead>\n",
       "    <tr style=\"text-align: right;\">\n",
       "      <th></th>\n",
       "      <th>0</th>\n",
       "    </tr>\n",
       "  </thead>\n",
       "  <tbody>\n",
       "    <tr>\n",
       "      <th>0</th>\n",
       "      <td>The service was OK and the food seemed good</td>\n",
       "    </tr>\n",
       "    <tr>\n",
       "      <th>1</th>\n",
       "      <td>Except that my wife ate scallops and got a ga...</td>\n",
       "    </tr>\n",
       "    <tr>\n",
       "      <th>2</th>\n",
       "      <td>Worst experience we had in a bar so far</td>\n",
       "    </tr>\n",
       "    <tr>\n",
       "      <th>3</th>\n",
       "      <td>Cocktails with almost no alcohol inside</td>\n",
       "    </tr>\n",
       "    <tr>\n",
       "      <th>4</th>\n",
       "      <td>Clearly let them notice about it and staff di...</td>\n",
       "    </tr>\n",
       "  </tbody>\n",
       "</table>\n",
       "</div>"
      ],
      "text/plain": [
       "                                                   0\n",
       "0        The service was OK and the food seemed good\n",
       "1   Except that my wife ate scallops and got a ga...\n",
       "2            Worst experience we had in a bar so far\n",
       "3            Cocktails with almost no alcohol inside\n",
       "4   Clearly let them notice about it and staff di..."
      ]
     },
     "execution_count": 9,
     "metadata": {},
     "output_type": "execute_result"
    }
   ],
   "source": [
    "sele_rating = df[df['rating_review']==1]\n",
    "print('Tamaño de comentarios: ',len(sele_rating))\n",
    "\n",
    "\n",
    "div_reviews = []\n",
    "for i in range(1000):\n",
    "    div_reviews = div_reviews + sele_rating.iloc[i,1].split('.')\n",
    "    div_reviews.pop()\n",
    "\n",
    "df_reviews = pd.DataFrame(div_reviews)\n",
    "\n",
    "\n",
    "print('Numero de oraciones(documentos): ',len(div_reviews))\n",
    "df_reviews.head()"
   ]
  },
  {
   "cell_type": "code",
   "execution_count": 10,
   "metadata": {},
   "outputs": [],
   "source": [
    "# Concatenamos todos los rows en un solo valor\n",
    "corpus = df_reviews.apply(lambda row: ' '.join(row.values.astype(str)), axis=0)[0]"
   ]
  },
  {
   "cell_type": "code",
   "execution_count": 11,
   "metadata": {},
   "outputs": [
    {
     "data": {
      "text/plain": [
       "['the',\n",
       " 'service',\n",
       " 'was',\n",
       " 'ok',\n",
       " 'and',\n",
       " 'the',\n",
       " 'food',\n",
       " 'seemed',\n",
       " 'good',\n",
       " 'except',\n",
       " 'that',\n",
       " 'my',\n",
       " 'wife',\n",
       " 'ate',\n",
       " 'scallops',\n",
       " 'and',\n",
       " 'got',\n",
       " 'a',\n",
       " 'gastroenteritis',\n",
       " 'worst']"
      ]
     },
     "execution_count": 11,
     "metadata": {},
     "output_type": "execute_result"
    }
   ],
   "source": [
    "# Transformar el corpus a tokens\n",
    "tokens=text_to_word_sequence(corpus)\n",
    "# Vistazo general de los primeros tokens\n",
    "tokens[:20]"
   ]
  },
  {
   "cell_type": "code",
   "execution_count": 12,
   "metadata": {},
   "outputs": [
    {
     "name": "stdout",
     "output_type": "stream",
     "text": [
      "Cantidad de tokens en el corpus: 103626\n"
     ]
    }
   ],
   "source": [
    "print(\"Cantidad de tokens en el corpus:\", len(tokens))"
   ]
  },
  {
   "cell_type": "code",
   "execution_count": 13,
   "metadata": {},
   "outputs": [],
   "source": [
    "# largo de la secuencia, incluye seq input + word output\n",
    "train_len = 4\n",
    "\n",
    "# Código para hacer el desfazaje de las palabras\n",
    "# según el train_len\n",
    "text_sequences = []\n",
    "for i in range(train_len, len(tokens)):\n",
    "  seq = tokens[i-train_len:i]\n",
    "  text_sequences.append(seq)"
   ]
  },
  {
   "cell_type": "code",
   "execution_count": 14,
   "metadata": {},
   "outputs": [
    {
     "data": {
      "text/plain": [
       "[['the', 'service', 'was', 'ok'],\n",
       " ['service', 'was', 'ok', 'and'],\n",
       " ['was', 'ok', 'and', 'the'],\n",
       " ['ok', 'and', 'the', 'food'],\n",
       " ['and', 'the', 'food', 'seemed'],\n",
       " ['the', 'food', 'seemed', 'good'],\n",
       " ['food', 'seemed', 'good', 'except'],\n",
       " ['seemed', 'good', 'except', 'that'],\n",
       " ['good', 'except', 'that', 'my'],\n",
       " ['except', 'that', 'my', 'wife'],\n",
       " ['that', 'my', 'wife', 'ate'],\n",
       " ['my', 'wife', 'ate', 'scallops'],\n",
       " ['wife', 'ate', 'scallops', 'and'],\n",
       " ['ate', 'scallops', 'and', 'got'],\n",
       " ['scallops', 'and', 'got', 'a'],\n",
       " ['and', 'got', 'a', 'gastroenteritis'],\n",
       " ['got', 'a', 'gastroenteritis', 'worst'],\n",
       " ['a', 'gastroenteritis', 'worst', 'experience'],\n",
       " ['gastroenteritis', 'worst', 'experience', 'we'],\n",
       " ['worst', 'experience', 'we', 'had']]"
      ]
     },
     "execution_count": 14,
     "metadata": {},
     "output_type": "execute_result"
    }
   ],
   "source": [
    "text_sequences[:20]"
   ]
  },
  {
   "cell_type": "code",
   "execution_count": 15,
   "metadata": {},
   "outputs": [
    {
     "data": {
      "text/plain": [
       "[[1, 29, 5, 208],\n",
       " [29, 5, 208, 2],\n",
       " [5, 208, 2, 1],\n",
       " [208, 2, 1, 13],\n",
       " [2, 1, 13, 299],\n",
       " [1, 13, 299, 48],\n",
       " [13, 299, 48, 664],\n",
       " [299, 48, 664, 16],\n",
       " [48, 664, 16, 24],\n",
       " [664, 16, 24, 351],\n",
       " [16, 24, 351, 423],\n",
       " [24, 351, 423, 4044],\n",
       " [351, 423, 4044, 2],\n",
       " [423, 4044, 2, 85],\n",
       " [4044, 2, 85, 4],\n",
       " [2, 85, 4, 2869],\n",
       " [85, 4, 2869, 113],\n",
       " [4, 2869, 113, 60],\n",
       " [2869, 113, 60, 8],\n",
       " [113, 60, 8, 21]]"
      ]
     },
     "execution_count": 15,
     "metadata": {},
     "output_type": "execute_result"
    }
   ],
   "source": [
    "from torch_helpers import Tokenizer\n",
    "\n",
    "# Proceso de tokenizacion\n",
    "tok = Tokenizer() \n",
    "tok.fit_on_texts(text_sequences) \n",
    "\n",
    "# Convertimos las palabras a números\n",
    "# entran palabras -> salen números\n",
    "sequences = tok.texts_to_sequences(text_sequences)\n",
    "\n",
    "# Damos un vistazo\n",
    "sequences[:20]"
   ]
  },
  {
   "cell_type": "code",
   "execution_count": 16,
   "metadata": {},
   "outputs": [
    {
     "name": "stdout",
     "output_type": "stream",
     "text": [
      "Cantidad de rows del dataset: 103622\n"
     ]
    }
   ],
   "source": [
    "print(\"Cantidad de rows del dataset:\", len(sequences))"
   ]
  },
  {
   "attachments": {},
   "cell_type": "markdown",
   "metadata": {},
   "source": [
    "# Input y Target"
   ]
  },
  {
   "cell_type": "code",
   "execution_count": 17,
   "metadata": {},
   "outputs": [
    {
     "name": "stdout",
     "output_type": "stream",
     "text": [
      "(103622, 3)\n",
      "(103622,)\n"
     ]
    }
   ],
   "source": [
    "arr_sequences = np.array(sequences)\n",
    "x_data = arr_sequences[:,:-1]\n",
    "y_data_int = arr_sequences[:,-1] # aún falta el oneHotEncoder\n",
    "\n",
    "print(x_data.shape)\n",
    "print(y_data_int.shape)"
   ]
  },
  {
   "cell_type": "code",
   "execution_count": 18,
   "metadata": {},
   "outputs": [
    {
     "data": {
      "text/plain": [
       "7941"
      ]
     },
     "execution_count": 18,
     "metadata": {},
     "output_type": "execute_result"
    }
   ],
   "source": [
    "# Cantidad de palabras en el vocabulario\n",
    "vocab_size = len(tok.word_counts)\n",
    "vocab_size"
   ]
  },
  {
   "cell_type": "code",
   "execution_count": 19,
   "metadata": {},
   "outputs": [
    {
     "data": {
      "text/plain": [
       "1"
      ]
     },
     "execution_count": 19,
     "metadata": {},
     "output_type": "execute_result"
    }
   ],
   "source": [
    "# ¡Ojo! y_data_int comienza en \"1\" en vez de \"0\"\n",
    "# valor minimo:\n",
    "min(y_data_int)"
   ]
  },
  {
   "cell_type": "code",
   "execution_count": 20,
   "metadata": {},
   "outputs": [
    {
     "data": {
      "text/plain": [
       "0"
      ]
     },
     "execution_count": 20,
     "metadata": {},
     "output_type": "execute_result"
    }
   ],
   "source": [
    "# Hay que restar 1\n",
    "y_data_int_offset = y_data_int - 1\n",
    "min(y_data_int_offset)"
   ]
  },
  {
   "cell_type": "code",
   "execution_count": 21,
   "metadata": {},
   "outputs": [
    {
     "name": "stdout",
     "output_type": "stream",
     "text": [
      "Tipo:  <class 'numpy.ndarray'>\n",
      "Tamaño:  103622\n"
     ]
    }
   ],
   "source": [
    "print('Tipo: ',type(y_data_int_offset))\n",
    "print('Tamaño: ',len(y_data_int_offset))"
   ]
  },
  {
   "cell_type": "code",
   "execution_count": 22,
   "metadata": {},
   "outputs": [
    {
     "name": "stdout",
     "output_type": "stream",
     "text": [
      "input_size: 3\n",
      "Output dim 7941\n"
     ]
    }
   ],
   "source": [
    "class Data(Dataset):\n",
    "    def __init__(self, x, y):\n",
    "        # Convertir los arrays de numpy a tensores. \n",
    "        # pytorch espera en general entradas 32bits\n",
    "        self.x = torch.from_numpy(x.astype(np.int32))\n",
    "        # Transformar los datos a oneHotEncoding\n",
    "        # la loss function esperan la salida float\n",
    "        #self.y = F.one_hot(torch.from_numpy(y), num_classes=vocab_size).float()\n",
    "        self.y = F.one_hot(torch.Tensor(y).to(torch.int64), num_classes=vocab_size).float()\n",
    "\n",
    "        self.len = self.y.shape[0]\n",
    "        \n",
    "    def __getitem__(self,index):\n",
    "        return self.x[index], self.y[index]\n",
    "\n",
    "    def __len__(self):\n",
    "        return self.len\n",
    "\n",
    "data_set = Data(x_data, y_data_int_offset)\n",
    "\n",
    "input_size = data_set.x.shape[1]\n",
    "\n",
    "print(\"input_size:\", input_size)\n",
    "\n",
    "output_dim = data_set.y.shape[1]\n",
    "print(\"Output dim\", output_dim)"
   ]
  },
  {
   "cell_type": "code",
   "execution_count": 27,
   "metadata": {},
   "outputs": [
    {
     "name": "stdout",
     "output_type": "stream",
     "text": [
      "Tamaño del conjunto de entrenamiento: 82898\n",
      "Tamaño del conjunto de validacion: 20724\n"
     ]
    }
   ],
   "source": [
    "torch.manual_seed(42)\n",
    "valid_set_size = int(data_set.len * 0.2)\n",
    "train_set_size = data_set.len - valid_set_size\n",
    "\n",
    "train_set = torch.utils.data.Subset(data_set, range(train_set_size))\n",
    "valid_set = torch.utils.data.Subset(data_set, range(train_set_size, data_set.len))\n",
    "\n",
    "print(\"Tamaño del conjunto de entrenamiento:\", len(train_set))\n",
    "print(\"Tamaño del conjunto de validacion:\", len(valid_set))\n",
    "\n",
    "train_batch_size = 32\n",
    "train_loader = torch.utils.data.DataLoader(train_set, batch_size=train_batch_size, shuffle=True)\n",
    "valid_loader = torch.utils.data.DataLoader(valid_set, batch_size=len(valid_set), shuffle=False)"
   ]
  },
  {
   "cell_type": "code",
   "execution_count": 28,
   "metadata": {},
   "outputs": [],
   "source": [
    "class Model1(nn.Module):\n",
    "    def __init__(self, vocab_size, output_dim):\n",
    "        super().__init__()\n",
    "        # num_embeddings = vocab_size --> 1628 palabras distintas + 1 para padding o UNK\n",
    "        # embedding_dim = 5 --> crear embeddings de tamaño 5 (tamaño variable y ajustable)\n",
    "        self.lstm_size = 64\n",
    "        self.num_layers = 2\n",
    "        self.embedding = nn.Embedding(num_embeddings=vocab_size+1, embedding_dim=25, padding_idx=0)\n",
    "        \n",
    "        self.lstm1 = nn.LSTM(input_size=25, hidden_size=self.lstm_size, batch_first=True,num_layers=self.num_layers, dropout=0.2) # LSTM layer\n",
    "        self.fc1 = nn.Linear(in_features=self.lstm_size, out_features=32) # Fully connected layer\n",
    "        \n",
    "        self.fc2 = nn.Linear(in_features=32, out_features=output_dim) # Fully connected layer\n",
    "        \n",
    "        self.relu = nn.ReLU()\n",
    "        self.softmax = nn.Softmax(dim=1) # normalize in dim 1\n",
    "\n",
    "    def forward(self, x, prev_state=None):\n",
    "        if prev_state is None:\n",
    "            # En cada nueva inferencia reinicio el hidden state\n",
    "            # de la LSTM al menos que sea pasado por parámetro el\n",
    "            # elstado de previo\n",
    "            # Esta acción se realiza especialmente para que\n",
    "            # el hidden_state de la última inferencia no afecte\n",
    "            # a la siguiente\n",
    "            batch_size = x.shape[0] #(batch, seq_size)\n",
    "            prev_state = self.init_hidden(batch_size)\n",
    "\n",
    "        out = self.embedding(x)\n",
    "        lstm_output, (ht, ct) = self.lstm1(out, prev_state)\n",
    "        out = self.relu(self.fc1(lstm_output[:,-1,:])) # take last output (last seq)\n",
    "        out = self.softmax(self.fc2(out))\n",
    "        return out\n",
    "\n",
    "    def init_hidden(self, batch_size):\n",
    "        return (torch.zeros(self.num_layers, batch_size, self.lstm_size).to(device),\n",
    "                torch.zeros(self.num_layers, batch_size, self.lstm_size).to(device))\n",
    "\n",
    "device = torch.device(\"cuda\" if torch.cuda.is_available() else \"cpu\")\n",
    "model1 = Model1(vocab_size=vocab_size, output_dim=output_dim).to(device)\n",
    "model1 = model1.to(device)\n",
    "\n",
    "# Crear el optimizador la una función de error\n",
    "model1_optimizer = torch.optim.Adam(model1.parameters(), lr=0.001)\n",
    "model1_criterion = torch.nn.BCELoss()  # Para clasificación multi categórica\n",
    "#model1_criterion = model1_criterion.to(device)\n",
    "\n",
    "\n",
    "# Por defecto torchinfo testea el modelo con torch.FloatTensor\n",
    "#summary(model1, input_size=(1, input_size), dtypes=['torch.IntTensor'], device='cuda')\n",
    "\n",
    "# otra posibilidad\n",
    "#summary(model1, input_data=data_set[0][0].unsqueeze(0))"
   ]
  },
  {
   "cell_type": "code",
   "execution_count": null,
   "metadata": {},
   "outputs": [],
   "source": []
  },
  {
   "cell_type": "code",
   "execution_count": 29,
   "metadata": {},
   "outputs": [],
   "source": [
    "from torch_helpers import categorical_acc\n",
    "\n",
    "def train(model, train_loader, valid_loader, optimizer, criterion, epochs=100):\n",
    "    # Defino listas para realizar graficas de los resultados\n",
    "    train_loss = []\n",
    "    train_accuracy = []\n",
    "    valid_loss = []\n",
    "    valid_accuracy = []\n",
    "\n",
    "    # Defino mi loop de entrenamiento\n",
    "\n",
    "    for epoch in range(epochs):\n",
    "\n",
    "        epoch_train_loss = 0.0\n",
    "        epoch_train_accuracy = 0.0\n",
    "\n",
    "        for train_data, train_target in train_loader:\n",
    "            # Seteo los gradientes en cero ya que, por defecto, PyTorch\n",
    "            # los va acumulando\n",
    "            optimizer.zero_grad()\n",
    "\n",
    "            output = model(train_data.to(device)).cpu()\n",
    "\n",
    "            # Computo el error de la salida comparando contra las etiquetas\n",
    "            loss = criterion(output, train_target)\n",
    "\n",
    "            # Almaceno el error del batch para luego tener el error promedio de la epoca\n",
    "            epoch_train_loss += loss.item()\n",
    "\n",
    "            # Computo el nuevo set de gradientes a lo largo de toda la red\n",
    "            loss.backward()\n",
    "\n",
    "            # Realizo el paso de optimizacion actualizando los parametros de toda la red\n",
    "            optimizer.step()\n",
    "\n",
    "            # Calculo el accuracy del batch\n",
    "            accuracy = categorical_acc(output, train_target)\n",
    "            # Almaceno el accuracy del batch para luego tener el accuracy promedio de la epoca\n",
    "            epoch_train_accuracy += accuracy.item()\n",
    "\n",
    "        # Calculo la media de error para la epoca de entrenamiento.\n",
    "        # La longitud de train_loader es igual a la cantidad de batches dentro de una epoca.\n",
    "        epoch_train_loss = epoch_train_loss / len(train_loader)\n",
    "        train_loss.append(epoch_train_loss)\n",
    "        epoch_train_accuracy = epoch_train_accuracy / len(train_loader)        \n",
    "        train_accuracy.append(epoch_train_accuracy)\n",
    "\n",
    "        # Realizo el paso de validación computando error y accuracy, y\n",
    "        # almacenando los valores para imprimirlos y graficarlos\n",
    "        valid_data, valid_target = next(iter(valid_loader))\n",
    "        output = model(valid_data.to(device)).cpu()\n",
    "        \n",
    "        epoch_valid_loss = criterion(output, valid_target).item()\n",
    "        valid_loss.append(epoch_valid_loss)\n",
    "\n",
    "        # Calculo el accuracy de la epoch\n",
    "        epoch_valid_accuracy = categorical_acc(output, valid_target).item()\n",
    "        valid_accuracy.append(epoch_valid_accuracy)\n",
    "\n",
    "        print(f\"Epoch: {epoch+1}/{epochs} - Train loss {epoch_train_loss:.5f} - Train accuracy {epoch_train_accuracy:.3f} - Valid Loss {epoch_valid_loss:.3f} - Valid accuracy {epoch_valid_accuracy:.5f}\")\n",
    "\n",
    "    history = {\n",
    "        \"loss\": train_loss,\n",
    "        \"accuracy\": train_accuracy,\n",
    "        \"val_loss\": valid_loss,\n",
    "        \"val_accuracy\": valid_accuracy,\n",
    "    }\n",
    "    return history"
   ]
  },
  {
   "cell_type": "code",
   "execution_count": 30,
   "metadata": {},
   "outputs": [
    {
     "name": "stdout",
     "output_type": "stream",
     "text": [
      "Epoch: 1/100 - Train loss 0.00097 - Train accuracy 0.050 - Valid Loss 0.001 - Valid accuracy 0.05771\n",
      "Epoch: 2/100 - Train loss 0.00092 - Train accuracy 0.062 - Valid Loss 0.001 - Valid accuracy 0.07547\n",
      "Epoch: 3/100 - Train loss 0.00089 - Train accuracy 0.077 - Valid Loss 0.001 - Valid accuracy 0.08715\n",
      "Epoch: 4/100 - Train loss 0.00087 - Train accuracy 0.089 - Valid Loss 0.001 - Valid accuracy 0.09245\n",
      "Epoch: 5/100 - Train loss 0.00085 - Train accuracy 0.096 - Valid Loss 0.001 - Valid accuracy 0.09689\n",
      "Epoch: 6/100 - Train loss 0.00084 - Train accuracy 0.103 - Valid Loss 0.001 - Valid accuracy 0.10061\n",
      "Epoch: 7/100 - Train loss 0.00082 - Train accuracy 0.110 - Valid Loss 0.001 - Valid accuracy 0.10355\n",
      "Epoch: 8/100 - Train loss 0.00081 - Train accuracy 0.113 - Valid Loss 0.001 - Valid accuracy 0.11074\n",
      "Epoch: 9/100 - Train loss 0.00080 - Train accuracy 0.118 - Valid Loss 0.001 - Valid accuracy 0.10760\n",
      "Epoch: 10/100 - Train loss 0.00079 - Train accuracy 0.123 - Valid Loss 0.001 - Valid accuracy 0.10881\n",
      "Epoch: 11/100 - Train loss 0.00078 - Train accuracy 0.126 - Valid Loss 0.001 - Valid accuracy 0.11175\n",
      "Epoch: 12/100 - Train loss 0.00077 - Train accuracy 0.130 - Valid Loss 0.001 - Valid accuracy 0.11412\n",
      "Epoch: 13/100 - Train loss 0.00076 - Train accuracy 0.133 - Valid Loss 0.001 - Valid accuracy 0.11581\n",
      "Epoch: 14/100 - Train loss 0.00076 - Train accuracy 0.135 - Valid Loss 0.001 - Valid accuracy 0.11460\n",
      "Epoch: 15/100 - Train loss 0.00075 - Train accuracy 0.138 - Valid Loss 0.001 - Valid accuracy 0.11523\n",
      "Epoch: 16/100 - Train loss 0.00074 - Train accuracy 0.142 - Valid Loss 0.001 - Valid accuracy 0.11706\n",
      "Epoch: 17/100 - Train loss 0.00073 - Train accuracy 0.145 - Valid Loss 0.001 - Valid accuracy 0.11542\n",
      "Epoch: 18/100 - Train loss 0.00073 - Train accuracy 0.148 - Valid Loss 0.001 - Valid accuracy 0.11571\n",
      "Epoch: 19/100 - Train loss 0.00072 - Train accuracy 0.149 - Valid Loss 0.001 - Valid accuracy 0.11364\n",
      "Epoch: 20/100 - Train loss 0.00071 - Train accuracy 0.152 - Valid Loss 0.001 - Valid accuracy 0.11262\n",
      "Epoch: 21/100 - Train loss 0.00071 - Train accuracy 0.156 - Valid Loss 0.001 - Valid accuracy 0.11426\n",
      "Epoch: 22/100 - Train loss 0.00070 - Train accuracy 0.158 - Valid Loss 0.001 - Valid accuracy 0.11407\n",
      "Epoch: 23/100 - Train loss 0.00069 - Train accuracy 0.160 - Valid Loss 0.001 - Valid accuracy 0.11296\n",
      "Epoch: 24/100 - Train loss 0.00069 - Train accuracy 0.163 - Valid Loss 0.001 - Valid accuracy 0.11156\n",
      "Epoch: 25/100 - Train loss 0.00068 - Train accuracy 0.166 - Valid Loss 0.001 - Valid accuracy 0.10992\n",
      "Epoch: 26/100 - Train loss 0.00068 - Train accuracy 0.170 - Valid Loss 0.001 - Valid accuracy 0.10722\n",
      "Epoch: 27/100 - Train loss 0.00067 - Train accuracy 0.173 - Valid Loss 0.001 - Valid accuracy 0.10949\n",
      "Epoch: 28/100 - Train loss 0.00067 - Train accuracy 0.177 - Valid Loss 0.001 - Valid accuracy 0.10997\n",
      "Epoch: 29/100 - Train loss 0.00066 - Train accuracy 0.179 - Valid Loss 0.001 - Valid accuracy 0.10370\n",
      "Epoch: 30/100 - Train loss 0.00066 - Train accuracy 0.182 - Valid Loss 0.001 - Valid accuracy 0.10934\n",
      "Epoch: 31/100 - Train loss 0.00066 - Train accuracy 0.185 - Valid Loss 0.001 - Valid accuracy 0.10601\n",
      "Epoch: 32/100 - Train loss 0.00065 - Train accuracy 0.188 - Valid Loss 0.001 - Valid accuracy 0.10939\n",
      "Epoch: 33/100 - Train loss 0.00065 - Train accuracy 0.190 - Valid Loss 0.001 - Valid accuracy 0.10630\n",
      "Epoch: 34/100 - Train loss 0.00064 - Train accuracy 0.193 - Valid Loss 0.001 - Valid accuracy 0.10635\n",
      "Epoch: 35/100 - Train loss 0.00064 - Train accuracy 0.196 - Valid Loss 0.001 - Valid accuracy 0.10355\n",
      "Epoch: 36/100 - Train loss 0.00064 - Train accuracy 0.199 - Valid Loss 0.001 - Valid accuracy 0.10259\n",
      "Epoch: 37/100 - Train loss 0.00063 - Train accuracy 0.200 - Valid Loss 0.001 - Valid accuracy 0.10452\n",
      "Epoch: 38/100 - Train loss 0.00063 - Train accuracy 0.202 - Valid Loss 0.001 - Valid accuracy 0.10273\n",
      "Epoch: 39/100 - Train loss 0.00063 - Train accuracy 0.205 - Valid Loss 0.001 - Valid accuracy 0.10167\n",
      "Epoch: 40/100 - Train loss 0.00063 - Train accuracy 0.208 - Valid Loss 0.001 - Valid accuracy 0.10162\n",
      "Epoch: 41/100 - Train loss 0.00062 - Train accuracy 0.210 - Valid Loss 0.001 - Valid accuracy 0.10345\n",
      "Epoch: 42/100 - Train loss 0.00062 - Train accuracy 0.213 - Valid Loss 0.001 - Valid accuracy 0.10374\n",
      "Epoch: 43/100 - Train loss 0.00062 - Train accuracy 0.215 - Valid Loss 0.001 - Valid accuracy 0.10177\n",
      "Epoch: 44/100 - Train loss 0.00062 - Train accuracy 0.216 - Valid Loss 0.001 - Valid accuracy 0.10365\n",
      "Epoch: 45/100 - Train loss 0.00061 - Train accuracy 0.219 - Valid Loss 0.001 - Valid accuracy 0.10365\n",
      "Epoch: 46/100 - Train loss 0.00061 - Train accuracy 0.220 - Valid Loss 0.001 - Valid accuracy 0.10037\n",
      "Epoch: 47/100 - Train loss 0.00061 - Train accuracy 0.222 - Valid Loss 0.001 - Valid accuracy 0.09964\n",
      "Epoch: 48/100 - Train loss 0.00061 - Train accuracy 0.224 - Valid Loss 0.001 - Valid accuracy 0.10075\n",
      "Epoch: 49/100 - Train loss 0.00061 - Train accuracy 0.227 - Valid Loss 0.001 - Valid accuracy 0.09839\n",
      "Epoch: 50/100 - Train loss 0.00060 - Train accuracy 0.229 - Valid Loss 0.001 - Valid accuracy 0.10090\n",
      "Epoch: 51/100 - Train loss 0.00060 - Train accuracy 0.230 - Valid Loss 0.001 - Valid accuracy 0.09752\n",
      "Epoch: 52/100 - Train loss 0.00060 - Train accuracy 0.232 - Valid Loss 0.001 - Valid accuracy 0.09882\n",
      "Epoch: 53/100 - Train loss 0.00060 - Train accuracy 0.233 - Valid Loss 0.001 - Valid accuracy 0.09747\n",
      "Epoch: 54/100 - Train loss 0.00060 - Train accuracy 0.234 - Valid Loss 0.001 - Valid accuracy 0.09694\n",
      "Epoch: 55/100 - Train loss 0.00060 - Train accuracy 0.237 - Valid Loss 0.001 - Valid accuracy 0.09472\n",
      "Epoch: 56/100 - Train loss 0.00059 - Train accuracy 0.239 - Valid Loss 0.001 - Valid accuracy 0.09834\n",
      "Epoch: 57/100 - Train loss 0.00059 - Train accuracy 0.239 - Valid Loss 0.001 - Valid accuracy 0.09844\n",
      "Epoch: 58/100 - Train loss 0.00059 - Train accuracy 0.241 - Valid Loss 0.001 - Valid accuracy 0.09578\n",
      "Epoch: 59/100 - Train loss 0.00059 - Train accuracy 0.241 - Valid Loss 0.001 - Valid accuracy 0.09376\n",
      "Epoch: 60/100 - Train loss 0.00059 - Train accuracy 0.244 - Valid Loss 0.001 - Valid accuracy 0.09448\n",
      "Epoch: 61/100 - Train loss 0.00059 - Train accuracy 0.244 - Valid Loss 0.001 - Valid accuracy 0.09525\n",
      "Epoch: 62/100 - Train loss 0.00058 - Train accuracy 0.249 - Valid Loss 0.001 - Valid accuracy 0.09327\n",
      "Epoch: 63/100 - Train loss 0.00058 - Train accuracy 0.249 - Valid Loss 0.001 - Valid accuracy 0.09598\n",
      "Epoch: 64/100 - Train loss 0.00058 - Train accuracy 0.250 - Valid Loss 0.001 - Valid accuracy 0.09516\n",
      "Epoch: 65/100 - Train loss 0.00058 - Train accuracy 0.252 - Valid Loss 0.001 - Valid accuracy 0.09501\n",
      "Epoch: 66/100 - Train loss 0.00058 - Train accuracy 0.252 - Valid Loss 0.001 - Valid accuracy 0.09453\n",
      "Epoch: 67/100 - Train loss 0.00058 - Train accuracy 0.255 - Valid Loss 0.001 - Valid accuracy 0.09414\n",
      "Epoch: 68/100 - Train loss 0.00058 - Train accuracy 0.255 - Valid Loss 0.001 - Valid accuracy 0.09477\n",
      "Epoch: 69/100 - Train loss 0.00058 - Train accuracy 0.255 - Valid Loss 0.001 - Valid accuracy 0.09279\n",
      "Epoch: 70/100 - Train loss 0.00057 - Train accuracy 0.256 - Valid Loss 0.001 - Valid accuracy 0.09462\n",
      "Epoch: 71/100 - Train loss 0.00057 - Train accuracy 0.258 - Valid Loss 0.001 - Valid accuracy 0.09530\n",
      "Epoch: 72/100 - Train loss 0.00057 - Train accuracy 0.259 - Valid Loss 0.001 - Valid accuracy 0.09390\n",
      "Epoch: 73/100 - Train loss 0.00057 - Train accuracy 0.259 - Valid Loss 0.001 - Valid accuracy 0.09197\n",
      "Epoch: 74/100 - Train loss 0.00057 - Train accuracy 0.260 - Valid Loss 0.001 - Valid accuracy 0.09303\n",
      "Epoch: 75/100 - Train loss 0.00057 - Train accuracy 0.263 - Valid Loss 0.001 - Valid accuracy 0.09250\n",
      "Epoch: 76/100 - Train loss 0.00057 - Train accuracy 0.262 - Valid Loss 0.001 - Valid accuracy 0.09226\n",
      "Epoch: 77/100 - Train loss 0.00057 - Train accuracy 0.263 - Valid Loss 0.001 - Valid accuracy 0.08864\n",
      "Epoch: 78/100 - Train loss 0.00057 - Train accuracy 0.264 - Valid Loss 0.001 - Valid accuracy 0.09115\n",
      "Epoch: 79/100 - Train loss 0.00056 - Train accuracy 0.267 - Valid Loss 0.001 - Valid accuracy 0.09110\n",
      "Epoch: 80/100 - Train loss 0.00056 - Train accuracy 0.267 - Valid Loss 0.001 - Valid accuracy 0.09072\n",
      "Epoch: 81/100 - Train loss 0.00056 - Train accuracy 0.269 - Valid Loss 0.001 - Valid accuracy 0.09202\n",
      "Epoch: 82/100 - Train loss 0.00056 - Train accuracy 0.269 - Valid Loss 0.001 - Valid accuracy 0.08936\n",
      "Epoch: 83/100 - Train loss 0.00056 - Train accuracy 0.271 - Valid Loss 0.001 - Valid accuracy 0.09033\n",
      "Epoch: 84/100 - Train loss 0.00056 - Train accuracy 0.273 - Valid Loss 0.001 - Valid accuracy 0.08994\n",
      "Epoch: 85/100 - Train loss 0.00056 - Train accuracy 0.272 - Valid Loss 0.001 - Valid accuracy 0.08705\n",
      "Epoch: 86/100 - Train loss 0.00056 - Train accuracy 0.273 - Valid Loss 0.001 - Valid accuracy 0.08676\n",
      "Epoch: 87/100 - Train loss 0.00056 - Train accuracy 0.274 - Valid Loss 0.001 - Valid accuracy 0.08927\n",
      "Epoch: 88/100 - Train loss 0.00056 - Train accuracy 0.277 - Valid Loss 0.001 - Valid accuracy 0.08719\n",
      "Epoch: 89/100 - Train loss 0.00056 - Train accuracy 0.277 - Valid Loss 0.001 - Valid accuracy 0.09226\n",
      "Epoch: 90/100 - Train loss 0.00056 - Train accuracy 0.276 - Valid Loss 0.001 - Valid accuracy 0.08951\n",
      "Epoch: 91/100 - Train loss 0.00056 - Train accuracy 0.277 - Valid Loss 0.001 - Valid accuracy 0.08927\n",
      "Epoch: 92/100 - Train loss 0.00055 - Train accuracy 0.278 - Valid Loss 0.001 - Valid accuracy 0.08811\n",
      "Epoch: 93/100 - Train loss 0.00055 - Train accuracy 0.281 - Valid Loss 0.001 - Valid accuracy 0.08985\n",
      "Epoch: 94/100 - Train loss 0.00055 - Train accuracy 0.279 - Valid Loss 0.001 - Valid accuracy 0.08903\n",
      "Epoch: 95/100 - Train loss 0.00055 - Train accuracy 0.282 - Valid Loss 0.001 - Valid accuracy 0.09062\n",
      "Epoch: 96/100 - Train loss 0.00055 - Train accuracy 0.283 - Valid Loss 0.001 - Valid accuracy 0.09019\n",
      "Epoch: 97/100 - Train loss 0.00055 - Train accuracy 0.284 - Valid Loss 0.001 - Valid accuracy 0.09038\n",
      "Epoch: 98/100 - Train loss 0.00055 - Train accuracy 0.284 - Valid Loss 0.001 - Valid accuracy 0.09144\n",
      "Epoch: 99/100 - Train loss 0.00055 - Train accuracy 0.285 - Valid Loss 0.001 - Valid accuracy 0.08883\n",
      "Epoch: 100/100 - Train loss 0.00055 - Train accuracy 0.287 - Valid Loss 0.001 - Valid accuracy 0.08546\n"
     ]
    }
   ],
   "source": [
    "history1 = train(model1,\n",
    "                train_loader,\n",
    "                valid_loader,\n",
    "                model1_optimizer,\n",
    "                model1_criterion,\n",
    "                epochs=100\n",
    "                )"
   ]
  },
  {
   "cell_type": "code",
   "execution_count": 31,
   "metadata": {},
   "outputs": [
    {
     "data": {
      "image/png": "[encoded data removed]",
      "text/plain": [
       "<Figure size 640x480 with 1 Axes>"
      ]
     },
     "metadata": {},
     "output_type": "display_data"
    }
   ],
   "source": [
    "import seaborn as sns\n",
    "import matplotlib.pyplot as plt\n",
    "epoch_count = range(1, len(history1['accuracy']) + 1)\n",
    "sns.lineplot(x=epoch_count,  y=history1['accuracy'], label='train')\n",
    "sns.lineplot(x=epoch_count,  y=history1['val_accuracy'], label='valid')\n",
    "plt.show()"
   ]
  },
  {
   "cell_type": "code",
   "execution_count": 35,
   "metadata": {},
   "outputs": [
    {
     "name": "stderr",
     "output_type": "stream",
     "text": [
      "C:\\Users\\PC-01\\AppData\\Local\\Temp\\ipykernel_16988\\1459320502.py:32: UserWarning: `layout` parameter is deprecated, and it has no effect\n",
      "  iface = gr.Interface(\n"
     ]
    },
    {
     "name": "stdout",
     "output_type": "stream",
     "text": [
      "Running on local URL:  http://127.0.0.1:7860\n",
      "\n",
      "To create a public link, set `share=True` in `launch()`.\n"
     ]
    },
    {
     "data": {
      "text/html": [
       "<div><iframe src=\"http://127.0.0.1:7860/\" width=\"100%\" height=\"500\" allow=\"autoplay; camera; microphone; clipboard-read; clipboard-write;\" frameborder=\"0\" allowfullscreen></iframe></div>"
      ],
      "text/plain": [
       "<IPython.core.display.HTML object>"
      ]
     },
     "metadata": {},
     "output_type": "display_data"
    },
    {
     "name": "stdout",
     "output_type": "stream",
     "text": [
      "Entrada:  the flight is\n",
      "Salida:   the flight is besides\n",
      "Entrada:  the services have\n",
      "Salida:   the services have bad\n",
      "Entrada:  food was\n",
      "Salida:   food was decent\n",
      "Entrada:  was walking\n",
      "Salida:   was walking found\n",
      "Entrada:  the food seems\n",
      "Salida:   the food seems and\n",
      "Entrada:  the food\n",
      "Salida:   the food a\n",
      "Entrada:  cleaning staff\n",
      "Salida:   cleaning staff went\n",
      "Entrada:  cleaning staff was\n",
      "Salida:   cleaning staff was serving\n",
      "Keyboard interruption in main thread... closing server.\n"
     ]
    },
    {
     "data": {
      "text/plain": []
     },
     "execution_count": 35,
     "metadata": {},
     "output_type": "execute_result"
    }
   ],
   "source": [
    "import gradio as gr\n",
    "from torch_helpers import pad_sequences\n",
    "\n",
    "def model_response(human_text):\n",
    "\n",
    "    # Encodeamos\n",
    "    encoded = tok.texts_to_sequences([human_text])[0]\n",
    "    # Si tienen distinto largo\n",
    "    encoded = pad_sequences([encoded], maxlen=3, padding='pre')\n",
    "    \n",
    "    # Transformo a tensor\n",
    "    tensor = torch.from_numpy(encoded.astype(np.int32)).to(device)\n",
    "\n",
    "    # Predicción softmax\n",
    "    y_hat = model1(tensor).argmax(axis=-1)\n",
    "\n",
    "    # Debemos buscar en el vocabulario la palabra\n",
    "    # que corresopnde al indice (y_hat) predicho por le modelo\n",
    "    out_word = ''\n",
    "    for word, index in tok.word_index.items():\n",
    "        if index == y_hat:\n",
    "            out_word = word\n",
    "            break\n",
    "    \n",
    "    print('Entrada: ', human_text)\n",
    "\n",
    "    print('Salida:  ', human_text + ' ' + out_word)\n",
    "\n",
    "    # Agrego la palabra a la frase predicha\n",
    "    return human_text + ' ' + out_word\n",
    "\n",
    "iface = gr.Interface(\n",
    "    fn=model_response,\n",
    "    inputs=[\"textbox\"],\n",
    "    outputs=\"text\",\n",
    "    layout=\"vertical\")\n",
    "\n",
    "iface.launch(debug=True)"
   ]
  },
  {
   "attachments": {},
   "cell_type": "markdown",
   "metadata": {},
   "source": [
    "Conclusiones\n",
    "\n",
    "-  Se utilizo un dataset de review sobre los servisioc de una empresa (tripadvisor) eligiendo 1000 reviews con valoracion de 1 putno.\n",
    "\n",
    "- Un tamaño de embbeding menor a 15 el modelo no aprende debido a la variabilidad de las palabras. Con 20 se obtuvo mejores resultados.\n",
    "\n",
    "- "
   ]
  }
 ],
 "metadata": {
  "kernelspec": {
   "display_name": "venvi_NLP",
   "language": "python",
   "name": "python3"
  },
  "language_info": {
   "codemirror_mode": {
    "name": "ipython",
    "version": 3
   },
   "file_extension": ".py",
   "mimetype": "text/x-python",
   "name": "python",
   "nbconvert_exporter": "python",
   "pygments_lexer": "ipython3",
   "version": "3.9.13"
  }
 },
 "nbformat": 4,
 "nbformat_minor": 4
}
