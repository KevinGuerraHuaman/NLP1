{
 "cells": [
  {
   "attachments": {},
   "cell_type": "markdown",
   "metadata": {},
   "source": [
    "### NLP TP2"
   ]
  },
  {
   "attachments": {},
   "cell_type": "markdown",
   "metadata": {},
   "source": [
    "La apliación está orientado a ser implementado en una empresa de Hotel para automatizar las respuestas y disminuir el tiempo de contestacion y reducir gasto de personal."
   ]
  },
  {
   "cell_type": "code",
   "execution_count": 21,
   "metadata": {},
   "outputs": [],
   "source": [
    "import json\n",
    "import string\n",
    "import random \n",
    "import numpy as np\n",
    "import matplotlib.pyplot as plt\n",
    "import torch\n",
    "import torch.nn.functional as F\n",
    "import torch.nn as nn\n",
    "from torch.utils.data import Dataset, DataLoader\n",
    "import torchsummary\n",
    "import os\n",
    "import platform\n",
    "import re\n",
    "import unicodedata\n",
    "import stanza\n",
    "import spacy_stanza\n",
    "import seaborn as sns"
   ]
  },
  {
   "cell_type": "code",
   "execution_count": 2,
   "metadata": {},
   "outputs": [],
   "source": [
    "def preprocess_clean_text(text):    \n",
    "    # sacar tildes de las palabras\n",
    "    text = unicodedata.normalize('NFKD', text).encode('ascii', 'ignore').decode('utf-8', 'ignore')\n",
    "    # quitar caracteres especiales\n",
    "    pattern = r'[^a-zA-z0-9.,!?/:;\\\"\\'\\s]' \n",
    "    text = re.sub(pattern, '', text)\n",
    "    # quitar caracteres de puntiación\n",
    "    text = ''.join([c for c in text if c not in string.punctuation])\n",
    "    return text"
   ]
  },
  {
   "cell_type": "code",
   "execution_count": 3,
   "metadata": {},
   "outputs": [
    {
     "data": {
      "text/plain": [
       "'amigo tienes habitaciones'"
      ]
     },
     "execution_count": 3,
     "metadata": {},
     "output_type": "execute_result"
    }
   ],
   "source": [
    "text = \"amigo tienes HABitaciones?..\"\n",
    "\n",
    "# Antes de preprocesar los datos se pasa a mínusculas todo el texto\n",
    "preprocess_clean_text(text.lower())"
   ]
  },
  {
   "cell_type": "code",
   "execution_count": 4,
   "metadata": {},
   "outputs": [
    {
     "name": "stderr",
     "output_type": "stream",
     "text": [
      "2023-06-23 10:52:33 INFO: Checking for updates to resources.json in case models have been updated.  Note: this behavior can be turned off with download_method=None or download_method=DownloadMethod.REUSE_RESOURCES\n"
     ]
    },
    {
     "name": "stderr",
     "output_type": "stream",
     "text": [
      "Downloading https://raw.githubusercontent.com/stanfordnlp/stanza-resources/main/resources_1.5.0.json: 216kB [00:00, 12.7MB/s]                    \n",
      "Downloading https://huggingface.co/stanfordnlp/stanza-es/resolve/v1.5.0/models/tokenize/ancora.pt: 100%|██████████| 635k/635k [00:00<00:00, 1.71MB/s]\n",
      "Downloading https://huggingface.co/stanfordnlp/stanza-es/resolve/v1.5.0/models/mwt/ancora.pt: 100%|██████████| 601k/601k [00:00<00:00, 1.71MB/s]\n",
      "Downloading https://huggingface.co/stanfordnlp/stanza-es/resolve/v1.5.0/models/pos/ancora.pt: 100%|██████████| 36.8M/36.8M [00:03<00:00, 10.3MB/s]\n",
      "Downloading https://huggingface.co/stanfordnlp/stanza-es/resolve/v1.5.0/models/lemma/ancora.pt: 100%|██████████| 4.61M/4.61M [00:00<00:00, 6.95MB/s]\n",
      "Downloading https://huggingface.co/stanfordnlp/stanza-es/resolve/v1.5.0/models/constituency/combined.pt: 100%|██████████| 113M/113M [00:11<00:00, 10.1MB/s] \n",
      "Downloading https://huggingface.co/stanfordnlp/stanza-es/resolve/v1.5.0/models/depparse/ancora.pt: 100%|██████████| 136M/136M [00:13<00:00, 9.79MB/s] \n",
      "Downloading https://huggingface.co/stanfordnlp/stanza-es/resolve/v1.5.0/models/sentiment/tass2020.pt: 100%|██████████| 74.0M/74.0M [00:11<00:00, 6.50MB/s]\n",
      "Downloading https://huggingface.co/stanfordnlp/stanza-es/resolve/v1.5.0/models/ner/conll02.pt: 100%|██████████| 67.0M/67.0M [00:09<00:00, 7.19MB/s]\n",
      "Downloading https://huggingface.co/stanfordnlp/stanza-es/resolve/v1.5.0/models/pretrain/fasttextwiki.pt: 100%|██████████| 123M/123M [00:13<00:00, 8.84MB/s] \n",
      "Downloading https://huggingface.co/stanfordnlp/stanza-es/resolve/v1.5.0/models/forward_charlm/newswiki.pt: 100%|██████████| 20.0M/20.0M [00:03<00:00, 6.08MB/s]\n",
      "Downloading https://huggingface.co/stanfordnlp/stanza-es/resolve/v1.5.0/models/pretrain/ancora.pt: 100%|██████████| 107M/107M [00:08<00:00, 12.8MB/s] \n",
      "Downloading https://huggingface.co/stanfordnlp/stanza-es/resolve/v1.5.0/models/backward_charlm/newswiki.pt: 100%|██████████| 20.0M/20.0M [00:02<00:00, 10.0MB/s]\n",
      "2023-06-23 10:54:02 INFO: Loading these models for language: es (Spanish):\n",
      "===========================\n",
      "| Processor    | Package  |\n",
      "---------------------------\n",
      "| tokenize     | ancora   |\n",
      "| mwt          | ancora   |\n",
      "| pos          | ancora   |\n",
      "| lemma        | ancora   |\n",
      "| constituency | combined |\n",
      "| depparse     | ancora   |\n",
      "| sentiment    | tass2020 |\n",
      "| ner          | conll02  |\n",
      "===========================\n",
      "\n",
      "2023-06-23 10:54:02 INFO: Using device: cuda\n",
      "2023-06-23 10:54:02 INFO: Loading: tokenize\n",
      "2023-06-23 10:54:04 INFO: Loading: mwt\n",
      "2023-06-23 10:54:04 INFO: Loading: pos\n",
      "2023-06-23 10:54:04 INFO: Loading: lemma\n",
      "2023-06-23 10:54:04 INFO: Loading: constituency\n",
      "2023-06-23 10:54:04 INFO: Loading: depparse\n",
      "2023-06-23 10:54:05 INFO: Loading: sentiment\n",
      "2023-06-23 10:54:05 INFO: Loading: ner\n",
      "2023-06-23 10:54:05 INFO: Done loading processors!\n"
     ]
    }
   ],
   "source": [
    "nlp = spacy_stanza.load_pipeline(\"es\")"
   ]
  },
  {
   "cell_type": "code",
   "execution_count": 73,
   "metadata": {},
   "outputs": [
    {
     "name": "stdout",
     "output_type": "stream",
     "text": [
      "tokens: holas amigo tienes habitaciones\n",
      "Lematización de cada token:\n",
      "[holas, 'hola']\n",
      "[amigo, 'amigo']\n",
      "[tienes, 'tener']\n",
      "[habitaciones, 'habitación']\n"
     ]
    }
   ],
   "source": [
    "# Ejemplo de como fuciona\n",
    "text = \"holas amigo tienes HABitaciones?..\"\n",
    "\n",
    "# Antes de preprocesar los datos se pasa a mínusculas todo el texto\n",
    "tokes = nlp(preprocess_clean_text(text.lower()))\n",
    "print(\"tokens:\", tokes)\n",
    "print(\"Lematización de cada token:\")\n",
    "for token in tokes:\n",
    "    print([token, token.lemma_])"
   ]
  },
  {
   "cell_type": "code",
   "execution_count": 74,
   "metadata": {},
   "outputs": [],
   "source": [
    "dataset = {\"intents\": [\n",
    "             {\"tag\": \"bienvenida\",\n",
    "              \"patterns\": [\"Hola\", \"Buenas\", \"¿Qué tal?\",\"Buen dia\"],\n",
    "              \"responses\": [\"Hola! en que puedo ayudarte?\", \"Hola, bienvenido al Hotel Leopard, en que lo ayudo?\"],\n",
    "             },\n",
    "             {\"tag\": \"nombre\",\n",
    "              \"patterns\": [\"¿Cúal es tu nombre?\", \"¿Quién eres?\", \"¿Con quien hablo?\"],\n",
    "              \"responses\": [\"Mi nombre es LeoBot\", \"Yo soy LeoBot\", \"Con LeoBot\"]\n",
    "             },\n",
    "             \n",
    "            {\"tag\": \"contacto\",\n",
    "              \"patterns\": [\"contacto\", \"número de contacto\", \"número de teléfono\", \"número de whatsapp\", \"whatsapp\"],\n",
    "              \"responses\": [\"Podes contactarnos al siguiente 4521321\", \"Contactos al whatsapp 95842234\"]\n",
    "             },\n",
    "            {\"tag\": \"cochera\",\n",
    "              \"patterns\": [\"¿Tiene cochera?\", \"¿Tengo movilidad, quiero cochera?\",\"¿tiene espacio en cochera?\"],\n",
    "              \"responses\": [\"El Hotel cuenta con cochera suficiente para todos los huespedes, no se preocupe.\"]\n",
    "             },\n",
    "            {\"tag\": \"precios\",\n",
    "              \"patterns\": [\"precio de habitacion?\", \"Me podrás pasar los precios\", \"¿Cuánto esta?\", \"¿Cuánto sale?\",\"¿los precios?\"],\n",
    "              \"responses\": [\"Los precios de las habitaciones son las siguientes, habitacion individual a $60, habitacion doble a $100 y habitacion Queen a $160\"]\n",
    "             },\n",
    "            {\"tag\": \"pagos\",\n",
    "              \"patterns\": [\"medios de pago\", \"tarjeta de crédito\", \"tarjeta debito\", \"plin o yape\",\"¿para cancelar?\",\"el pago\",\"para cancelar\"],\n",
    "              \"responses\": [\"Puede realizar la reserva por la pagina web www.leopard-hotel.com ó por medio fisico con tarjeta o transferencia\"]\n",
    "             },\n",
    "            {\"tag\": \"disponibilidad\",\n",
    "              \"patterns\": [\"¿Hay habitaciones?\", \"¿Tiene habitaciones?\", \"¿Hoy hay habitaciones?\"],\n",
    "              \"responses\": [\"Puede resalizar la reserva por la pagina web www.leopard-hotel.com\"]\n",
    "             },\n",
    "            {\"tag\": \"agradecimientos\",\n",
    "              \"patterns\": [ \"Muchas gracias\", \"Gracias\",\"eso es todo\"],\n",
    "              \"responses\": [\"Que tenga buen dia, cualquier otra consulta puedes escribirme\"]\n",
    "             },\n",
    "             {\"tag\": \"despedida\",\n",
    "              \"patterns\": [ \"Ok nos vemos\", \"Hasta luego!\", \"chau\", \"bye\"],\n",
    "              \"responses\": [\"Hasta luego!\", \"Hablamos luego!\"]\n",
    "             }\n",
    "]}"
   ]
  },
  {
   "cell_type": "code",
   "execution_count": 75,
   "metadata": {},
   "outputs": [],
   "source": [
    "# Datos que necesitaremos, las palabras o vocabilario\n",
    "words = []\n",
    "classes = []\n",
    "doc_X = []\n",
    "doc_y = []\n",
    "\n",
    "# Por cada intención (intents) debemos tomar los patrones que la caracterízan\n",
    "# a esa intención y transformarla a tokens para lamacenar en doc_X\n",
    "\n",
    "# El tag de cada intención se almacena como doc_Y (la clase a predecir)\n",
    "\n",
    "for intent in dataset[\"intents\"]:\n",
    "    for pattern in intent[\"patterns\"]:\n",
    "        # trasformar el patron a tokens\n",
    "        tokens = nlp(preprocess_clean_text(pattern.lower()))\n",
    "        # lematizar los tokens\n",
    "        for token in tokens:            \n",
    "            words.append(token.lemma_)\n",
    "        \n",
    "        doc_X.append(pattern)\n",
    "        doc_y.append(intent[\"tag\"])\n",
    "    \n",
    "    # Agregar el tag a las clases\n",
    "    if intent[\"tag\"] not in classes:\n",
    "        classes.append(intent[\"tag\"])\n",
    "\n",
    "# Elminar duplicados con \"set\" y ordenar el vocubulario y las clases por orden alfabético\n",
    "words = sorted(set(words))\n",
    "classes = sorted(set(classes))"
   ]
  },
  {
   "cell_type": "code",
   "execution_count": 76,
   "metadata": {},
   "outputs": [
    {
     "name": "stdout",
     "output_type": "stream",
     "text": [
      "words: ['buen', 'bye', 'cancelar', 'chau', 'cochera', 'con', 'contacto', 'credito', 'cual', 'cuanto', 'de', 'debito', 'dia', 'el', 'en', 'ese', 'espacio', 'este', 'gracias', 'haber', 'habitacion', 'habitación', 'hablar', 'hasta', 'hola', 'hoy', 'luego', 'medio', 'movilidad', 'mucho', 'nombre', 'numero', 'o', 'ok', 'pago', 'para', 'pasar', 'plin', 'poder', 'precio', 'que', 'querer', 'quien', 'salir', 'ser', 'tal', 'tarjeta', 'telefono', 'tener', 'todo', 'tu', 'ver', 'whatsapp', 'yape', 'yo']\n",
      "classes: ['agradecimientos', 'bienvenida', 'cochera', 'contacto', 'despedida', 'disponibilidad', 'nombre', 'pagos', 'precios']\n",
      "doc_X: ['Hola', 'Buenas', '¿Qué tal?', 'Buen dia', '¿Cúal es tu nombre?', '¿Quién eres?', '¿Con quien hablo?', 'contacto', 'número de contacto', 'número de teléfono', 'número de whatsapp', 'whatsapp', '¿Tiene cochera?', '¿Tengo movilidad, quiero cochera?', '¿tiene espacio en cochera?', 'precio de habitacion?', 'Me podrás pasar los precios', '¿Cuánto esta?', '¿Cuánto sale?', '¿los precios?', 'medios de pago', 'tarjeta de crédito', 'tarjeta debito', 'plin o yape', '¿para cancelar?', 'el pago', 'para cancelar', '¿Hay habitaciones?', '¿Tiene habitaciones?', '¿Hoy hay habitaciones?', 'Muchas gracias', 'Gracias', 'eso es todo', 'Ok nos vemos', 'Hasta luego!', 'chau', 'bye']\n",
      "doc_y: ['bienvenida', 'bienvenida', 'bienvenida', 'bienvenida', 'nombre', 'nombre', 'nombre', 'contacto', 'contacto', 'contacto', 'contacto', 'contacto', 'cochera', 'cochera', 'cochera', 'precios', 'precios', 'precios', 'precios', 'precios', 'pagos', 'pagos', 'pagos', 'pagos', 'pagos', 'pagos', 'pagos', 'disponibilidad', 'disponibilidad', 'disponibilidad', 'agradecimientos', 'agradecimientos', 'agradecimientos', 'despedida', 'despedida', 'despedida', 'despedida']\n"
     ]
    }
   ],
   "source": [
    "print(\"words:\", words)\n",
    "print(\"classes:\", classes)\n",
    "print(\"doc_X:\", doc_X)\n",
    "print(\"doc_y:\", doc_y)"
   ]
  },
  {
   "cell_type": "code",
   "execution_count": 77,
   "metadata": {},
   "outputs": [
    {
     "name": "stdout",
     "output_type": "stream",
     "text": [
      "Vocabulario: 55\n",
      "Tags: 9\n"
     ]
    }
   ],
   "source": [
    "# Tamaño del vocabulario\n",
    "print(\"Vocabulario:\", len(words))\n",
    "# Cantidad de tags\n",
    "print(\"Tags:\", len(classes))"
   ]
  },
  {
   "cell_type": "code",
   "execution_count": 78,
   "metadata": {},
   "outputs": [
    {
     "name": "stdout",
     "output_type": "stream",
     "text": [
      "X: [0, 0, 0, 0, 0, 0, 0, 0, 0, 0, 0, 0, 0, 0, 0, 0, 0, 0, 0, 0, 0, 0, 0, 0, 1, 0, 0, 0, 0, 0, 0, 0, 0, 0, 0, 0, 0, 0, 0, 0, 0, 0, 0, 0, 0, 0, 0, 0, 0, 0, 0, 0, 0, 0, 0] y: [0, 1, 0, 0, 0, 0, 0, 0, 0]\n",
      "X: [1, 0, 0, 0, 0, 0, 0, 0, 0, 0, 0, 0, 0, 0, 0, 0, 0, 0, 0, 0, 0, 0, 0, 0, 0, 0, 0, 0, 0, 0, 0, 0, 0, 0, 0, 0, 0, 0, 0, 0, 0, 0, 0, 0, 0, 0, 0, 0, 0, 0, 0, 0, 0, 0, 0] y: [0, 1, 0, 0, 0, 0, 0, 0, 0]\n",
      "X: [0, 0, 0, 0, 0, 0, 0, 0, 0, 0, 0, 0, 0, 0, 0, 0, 0, 0, 0, 0, 0, 0, 0, 0, 0, 0, 0, 0, 0, 0, 0, 0, 0, 0, 0, 0, 0, 0, 0, 0, 1, 0, 0, 0, 0, 1, 0, 0, 0, 0, 0, 0, 0, 0, 0] y: [0, 1, 0, 0, 0, 0, 0, 0, 0]\n",
      "X: [1, 0, 0, 0, 0, 0, 0, 0, 0, 0, 0, 0, 1, 0, 0, 0, 0, 0, 0, 0, 0, 0, 0, 0, 0, 0, 0, 0, 0, 0, 0, 0, 0, 0, 0, 0, 0, 0, 0, 0, 0, 0, 0, 0, 0, 0, 0, 0, 0, 0, 0, 0, 0, 0, 0] y: [0, 1, 0, 0, 0, 0, 0, 0, 0]\n",
      "X: [0, 0, 0, 0, 0, 0, 0, 0, 1, 0, 0, 0, 0, 0, 0, 0, 0, 0, 0, 0, 0, 0, 0, 0, 0, 0, 0, 0, 0, 0, 1, 0, 0, 0, 0, 0, 0, 0, 0, 0, 0, 0, 0, 0, 1, 0, 0, 0, 0, 0, 1, 0, 0, 0, 0] y: [0, 0, 0, 0, 0, 0, 1, 0, 0]\n",
      "X: [0, 0, 0, 0, 0, 0, 0, 0, 0, 0, 0, 0, 0, 0, 0, 0, 0, 0, 0, 0, 0, 0, 0, 0, 0, 0, 0, 0, 0, 0, 0, 0, 0, 0, 0, 0, 0, 0, 0, 0, 0, 0, 1, 0, 1, 0, 0, 0, 0, 0, 0, 0, 0, 0, 0] y: [0, 0, 0, 0, 0, 0, 1, 0, 0]\n",
      "X: [0, 0, 0, 0, 0, 1, 0, 0, 0, 0, 0, 0, 0, 0, 0, 0, 0, 0, 0, 0, 0, 0, 1, 0, 0, 0, 0, 0, 0, 0, 0, 0, 0, 0, 0, 0, 0, 0, 0, 0, 0, 0, 1, 0, 0, 0, 0, 0, 0, 0, 0, 0, 0, 0, 0] y: [0, 0, 0, 0, 0, 0, 1, 0, 0]\n",
      "X: [0, 0, 0, 0, 0, 0, 1, 0, 0, 0, 0, 0, 0, 0, 0, 0, 0, 0, 0, 0, 0, 0, 0, 0, 0, 0, 0, 0, 0, 0, 0, 0, 0, 0, 0, 0, 0, 0, 0, 0, 0, 0, 0, 0, 0, 0, 0, 0, 0, 0, 0, 0, 0, 0, 0] y: [0, 0, 0, 1, 0, 0, 0, 0, 0]\n",
      "X: [0, 0, 0, 0, 0, 0, 1, 0, 0, 0, 1, 0, 0, 0, 0, 0, 0, 0, 0, 0, 0, 0, 0, 0, 0, 0, 0, 0, 0, 0, 0, 1, 0, 0, 0, 0, 0, 0, 0, 0, 0, 0, 0, 0, 0, 0, 0, 0, 0, 0, 0, 0, 0, 0, 0] y: [0, 0, 0, 1, 0, 0, 0, 0, 0]\n",
      "X: [0, 0, 0, 0, 0, 0, 0, 0, 0, 0, 1, 0, 0, 0, 0, 0, 0, 0, 0, 0, 0, 0, 0, 0, 0, 0, 0, 0, 0, 0, 0, 1, 0, 0, 0, 0, 0, 0, 0, 0, 0, 0, 0, 0, 0, 0, 0, 1, 0, 0, 0, 0, 0, 0, 0] y: [0, 0, 0, 1, 0, 0, 0, 0, 0]\n",
      "X: [0, 0, 0, 0, 0, 0, 0, 0, 0, 0, 1, 0, 0, 0, 0, 0, 0, 0, 0, 0, 0, 0, 0, 0, 0, 0, 0, 0, 0, 0, 0, 1, 0, 0, 0, 0, 0, 0, 0, 0, 0, 0, 0, 0, 0, 0, 0, 0, 0, 0, 0, 0, 1, 0, 0] y: [0, 0, 0, 1, 0, 0, 0, 0, 0]\n",
      "X: [0, 0, 0, 0, 0, 0, 0, 0, 0, 0, 0, 0, 0, 0, 0, 0, 0, 0, 0, 0, 0, 0, 0, 0, 0, 0, 0, 0, 0, 0, 0, 0, 0, 0, 0, 0, 0, 0, 0, 0, 0, 0, 0, 0, 0, 0, 0, 0, 0, 0, 0, 0, 1, 0, 0] y: [0, 0, 0, 1, 0, 0, 0, 0, 0]\n",
      "X: [0, 0, 0, 0, 1, 0, 0, 0, 0, 0, 0, 0, 0, 0, 0, 0, 0, 0, 0, 0, 0, 0, 0, 0, 0, 0, 0, 0, 0, 0, 0, 0, 0, 0, 0, 0, 0, 0, 0, 0, 0, 0, 0, 0, 0, 0, 0, 0, 1, 0, 0, 0, 0, 0, 0] y: [0, 0, 1, 0, 0, 0, 0, 0, 0]\n",
      "X: [0, 0, 0, 0, 1, 0, 0, 0, 0, 0, 0, 0, 0, 0, 0, 0, 0, 0, 0, 0, 0, 0, 0, 0, 0, 0, 0, 0, 1, 0, 0, 0, 0, 0, 0, 0, 0, 0, 0, 0, 0, 1, 0, 0, 0, 0, 0, 0, 1, 0, 0, 0, 0, 0, 0] y: [0, 0, 1, 0, 0, 0, 0, 0, 0]\n",
      "X: [0, 0, 0, 0, 1, 0, 0, 0, 0, 0, 0, 0, 0, 0, 1, 0, 1, 0, 0, 0, 0, 0, 0, 0, 0, 0, 0, 0, 0, 0, 0, 0, 0, 0, 0, 0, 0, 0, 0, 0, 0, 0, 0, 0, 0, 0, 0, 0, 1, 0, 0, 0, 0, 0, 0] y: [0, 0, 1, 0, 0, 0, 0, 0, 0]\n",
      "X: [0, 0, 0, 0, 0, 0, 0, 0, 0, 0, 1, 0, 0, 0, 0, 0, 0, 0, 0, 0, 1, 0, 0, 0, 0, 0, 0, 0, 0, 0, 0, 0, 0, 0, 0, 0, 0, 0, 0, 1, 0, 0, 0, 0, 0, 0, 0, 0, 0, 0, 0, 0, 0, 0, 0] y: [0, 0, 0, 0, 0, 0, 0, 0, 1]\n",
      "X: [0, 0, 0, 0, 0, 0, 0, 0, 0, 0, 0, 0, 0, 1, 0, 0, 0, 0, 0, 0, 0, 0, 0, 0, 0, 0, 0, 0, 0, 0, 0, 0, 0, 0, 0, 0, 1, 0, 1, 1, 0, 0, 0, 0, 0, 0, 0, 0, 0, 0, 0, 0, 0, 0, 1] y: [0, 0, 0, 0, 0, 0, 0, 0, 1]\n",
      "X: [0, 0, 0, 0, 0, 0, 0, 0, 0, 1, 0, 0, 0, 0, 0, 0, 0, 1, 0, 0, 0, 0, 0, 0, 0, 0, 0, 0, 0, 0, 0, 0, 0, 0, 0, 0, 0, 0, 0, 0, 0, 0, 0, 0, 0, 0, 0, 0, 0, 0, 0, 0, 0, 0, 0] y: [0, 0, 0, 0, 0, 0, 0, 0, 1]\n",
      "X: [0, 0, 0, 0, 0, 0, 0, 0, 0, 1, 0, 0, 0, 0, 0, 0, 0, 0, 0, 0, 0, 0, 0, 0, 0, 0, 0, 0, 0, 0, 0, 0, 0, 0, 0, 0, 0, 0, 0, 0, 0, 0, 0, 1, 0, 0, 0, 0, 0, 0, 0, 0, 0, 0, 0] y: [0, 0, 0, 0, 0, 0, 0, 0, 1]\n",
      "X: [0, 0, 0, 0, 0, 0, 0, 0, 0, 0, 0, 0, 0, 1, 0, 0, 0, 0, 0, 0, 0, 0, 0, 0, 0, 0, 0, 0, 0, 0, 0, 0, 0, 0, 0, 0, 0, 0, 0, 1, 0, 0, 0, 0, 0, 0, 0, 0, 0, 0, 0, 0, 0, 0, 0] y: [0, 0, 0, 0, 0, 0, 0, 0, 1]\n",
      "X: [0, 0, 0, 0, 0, 0, 0, 0, 0, 0, 1, 0, 0, 0, 0, 0, 0, 0, 0, 0, 0, 0, 0, 0, 0, 0, 0, 1, 0, 0, 0, 0, 0, 0, 1, 0, 0, 0, 0, 0, 0, 0, 0, 0, 0, 0, 0, 0, 0, 0, 0, 0, 0, 0, 0] y: [0, 0, 0, 0, 0, 0, 0, 1, 0]\n",
      "X: [0, 0, 0, 0, 0, 0, 0, 1, 0, 0, 1, 0, 0, 0, 0, 0, 0, 0, 0, 0, 0, 0, 0, 0, 0, 0, 0, 0, 0, 0, 0, 0, 0, 0, 0, 0, 0, 0, 0, 0, 0, 0, 0, 0, 0, 0, 1, 0, 0, 0, 0, 0, 0, 0, 0] y: [0, 0, 0, 0, 0, 0, 0, 1, 0]\n",
      "X: [0, 0, 0, 0, 0, 0, 0, 0, 0, 0, 0, 1, 0, 0, 0, 0, 0, 0, 0, 0, 0, 0, 0, 0, 0, 0, 0, 0, 0, 0, 0, 0, 0, 0, 0, 0, 0, 0, 0, 0, 0, 0, 0, 0, 0, 0, 1, 0, 0, 0, 0, 0, 0, 0, 0] y: [0, 0, 0, 0, 0, 0, 0, 1, 0]\n",
      "X: [0, 0, 0, 0, 0, 0, 0, 0, 0, 0, 0, 0, 0, 0, 0, 0, 0, 0, 0, 0, 0, 0, 0, 0, 0, 0, 0, 0, 0, 0, 0, 0, 1, 0, 0, 0, 0, 1, 0, 0, 0, 0, 0, 0, 0, 0, 0, 0, 0, 0, 0, 0, 0, 1, 0] y: [0, 0, 0, 0, 0, 0, 0, 1, 0]\n",
      "X: [0, 0, 1, 0, 0, 0, 0, 0, 0, 0, 0, 0, 0, 0, 0, 0, 0, 0, 0, 0, 0, 0, 0, 0, 0, 0, 0, 0, 0, 0, 0, 0, 0, 0, 0, 1, 0, 0, 0, 0, 0, 0, 0, 0, 0, 0, 0, 0, 0, 0, 0, 0, 0, 0, 0] y: [0, 0, 0, 0, 0, 0, 0, 1, 0]\n",
      "X: [0, 0, 0, 0, 0, 0, 0, 0, 0, 0, 0, 0, 0, 1, 0, 0, 0, 0, 0, 0, 0, 0, 0, 0, 0, 0, 0, 0, 0, 0, 0, 0, 0, 0, 1, 0, 0, 0, 0, 0, 0, 0, 0, 0, 0, 0, 0, 0, 0, 0, 0, 0, 0, 0, 0] y: [0, 0, 0, 0, 0, 0, 0, 1, 0]\n",
      "X: [0, 0, 1, 0, 0, 0, 0, 0, 0, 0, 0, 0, 0, 0, 0, 0, 0, 0, 0, 0, 0, 0, 0, 0, 0, 0, 0, 0, 0, 0, 0, 0, 0, 0, 0, 1, 0, 0, 0, 0, 0, 0, 0, 0, 0, 0, 0, 0, 0, 0, 0, 0, 0, 0, 0] y: [0, 0, 0, 0, 0, 0, 0, 1, 0]\n",
      "X: [0, 0, 0, 0, 0, 0, 0, 0, 0, 0, 0, 0, 0, 0, 0, 0, 0, 0, 0, 1, 0, 1, 0, 0, 0, 0, 0, 0, 0, 0, 0, 0, 0, 0, 0, 0, 0, 0, 0, 0, 0, 0, 0, 0, 0, 0, 0, 0, 0, 0, 0, 0, 0, 0, 0] y: [0, 0, 0, 0, 0, 1, 0, 0, 0]\n",
      "X: [0, 0, 0, 0, 0, 0, 0, 0, 0, 0, 0, 0, 0, 0, 0, 0, 0, 0, 0, 0, 0, 1, 0, 0, 0, 0, 0, 0, 0, 0, 0, 0, 0, 0, 0, 0, 0, 0, 0, 0, 0, 0, 0, 0, 0, 0, 0, 0, 1, 0, 0, 0, 0, 0, 0] y: [0, 0, 0, 0, 0, 1, 0, 0, 0]\n",
      "X: [0, 0, 0, 0, 0, 0, 0, 0, 0, 0, 0, 0, 0, 0, 0, 0, 0, 0, 0, 1, 0, 1, 0, 0, 0, 1, 0, 0, 0, 0, 0, 0, 0, 0, 0, 0, 0, 0, 0, 0, 0, 0, 0, 0, 0, 0, 0, 0, 0, 0, 0, 0, 0, 0, 0] y: [0, 0, 0, 0, 0, 1, 0, 0, 0]\n",
      "X: [0, 0, 0, 0, 0, 0, 0, 0, 0, 0, 0, 0, 0, 0, 0, 0, 0, 0, 1, 0, 0, 0, 0, 0, 0, 0, 0, 0, 0, 1, 0, 0, 0, 0, 0, 0, 0, 0, 0, 0, 0, 0, 0, 0, 0, 0, 0, 0, 0, 0, 0, 0, 0, 0, 0] y: [1, 0, 0, 0, 0, 0, 0, 0, 0]\n",
      "X: [0, 0, 0, 0, 0, 0, 0, 0, 0, 0, 0, 0, 0, 0, 0, 0, 0, 0, 1, 0, 0, 0, 0, 0, 0, 0, 0, 0, 0, 0, 0, 0, 0, 0, 0, 0, 0, 0, 0, 0, 0, 0, 0, 0, 0, 0, 0, 0, 0, 0, 0, 0, 0, 0, 0] y: [1, 0, 0, 0, 0, 0, 0, 0, 0]\n",
      "X: [0, 0, 0, 0, 0, 0, 0, 0, 0, 0, 0, 0, 0, 0, 0, 1, 0, 0, 0, 0, 0, 0, 0, 0, 0, 0, 0, 0, 0, 0, 0, 0, 0, 0, 0, 0, 0, 0, 0, 0, 0, 0, 0, 0, 1, 0, 0, 0, 0, 1, 0, 0, 0, 0, 0] y: [1, 0, 0, 0, 0, 0, 0, 0, 0]\n",
      "X: [0, 0, 0, 0, 0, 0, 0, 0, 0, 0, 0, 0, 0, 0, 0, 0, 0, 0, 0, 0, 0, 0, 0, 0, 0, 0, 0, 0, 0, 0, 0, 0, 0, 1, 0, 0, 0, 0, 0, 0, 0, 0, 0, 0, 0, 0, 0, 0, 0, 0, 0, 1, 0, 0, 1] y: [0, 0, 0, 0, 1, 0, 0, 0, 0]\n",
      "X: [0, 0, 0, 0, 0, 0, 0, 0, 0, 0, 0, 0, 0, 0, 0, 0, 0, 0, 0, 0, 0, 0, 0, 1, 0, 0, 1, 0, 0, 0, 0, 0, 0, 0, 0, 0, 0, 0, 0, 0, 0, 0, 0, 0, 0, 0, 0, 0, 0, 0, 0, 0, 0, 0, 0] y: [0, 0, 0, 0, 1, 0, 0, 0, 0]\n",
      "X: [0, 0, 0, 1, 0, 0, 0, 0, 0, 0, 0, 0, 0, 0, 0, 0, 0, 0, 0, 0, 0, 0, 0, 0, 0, 0, 0, 0, 0, 0, 0, 0, 0, 0, 0, 0, 0, 0, 0, 0, 0, 0, 0, 0, 0, 0, 0, 0, 0, 0, 0, 0, 0, 0, 0] y: [0, 0, 0, 0, 1, 0, 0, 0, 0]\n",
      "X: [0, 1, 0, 0, 0, 0, 0, 0, 0, 0, 0, 0, 0, 0, 0, 0, 0, 0, 0, 0, 0, 0, 0, 0, 0, 0, 0, 0, 0, 0, 0, 0, 0, 0, 0, 0, 0, 0, 0, 0, 0, 0, 0, 0, 0, 0, 0, 0, 0, 0, 0, 0, 0, 0, 0] y: [0, 0, 0, 0, 1, 0, 0, 0, 0]\n"
     ]
    }
   ],
   "source": [
    "# Transformar doc_X en bag of words por oneHotEncoding\n",
    "# Transformar doc_Y en un vector de clases multicategórico con oneHotEncoding\n",
    "\n",
    "training = []\n",
    "out_empty = [0] * len(classes)\n",
    "\n",
    "for idx, doc in enumerate(doc_X):\n",
    "    # Transformar la pregunta (input) en tokens y lematizar\n",
    "    text = []\n",
    "    tokens = nlp(preprocess_clean_text(doc.lower()))\n",
    "    for token in tokens:\n",
    "        text.append(token.lemma_)\n",
    "\n",
    "    # Transformar los tokens en \"Bag of words\" (arrays de 1 y 0)\n",
    "    bow = []\n",
    "    for word in words:\n",
    "        bow.append(1) if word in text else bow.append(0)\n",
    "    \n",
    "    # Crear el array de salida (class output) correspondiente\n",
    "    output_row = list(out_empty)\n",
    "    output_row[classes.index(doc_y[idx])] = 1\n",
    "\n",
    "    print(\"X:\", bow, \"y:\", output_row)\n",
    "    training.append([bow, output_row])\n",
    "\n",
    "# Mezclar los datos\n",
    "random.shuffle(training)\n",
    "training = np.array(training, dtype=object)\n",
    "# Dividir en datos de entrada y salida\n",
    "train_X = np.array(list(training[:, 0]))\n",
    "train_y = np.array(list(training[:, 1]))"
   ]
  },
  {
   "cell_type": "code",
   "execution_count": 79,
   "metadata": {},
   "outputs": [
    {
     "name": "stdout",
     "output_type": "stream",
     "text": [
      "Input dim 55\n",
      "Output dim 9\n"
     ]
    }
   ],
   "source": [
    "class Data(Dataset):\n",
    "    def __init__(self, x, y):\n",
    "        # Convertir los arrays de numpy a tensores. \n",
    "        # pytorch espera en general entradas 32bits\n",
    "        self.x = torch.from_numpy(x.astype(np.float32))\n",
    "        # las loss function esperan la salida float\n",
    "        self.y = torch.from_numpy(y.astype(np.float32))\n",
    "\n",
    "        self.len = self.y.shape[0]\n",
    "\n",
    "    def __getitem__(self,index):\n",
    "        return self.x[index], self.y[index]\n",
    "\n",
    "    def __len__(self):\n",
    "        return self.len\n",
    "\n",
    "data_set = Data(train_X, train_y)\n",
    "\n",
    "input_dim = data_set.x.shape[1]\n",
    "print(\"Input dim\", input_dim)\n",
    "\n",
    "output_dim = data_set.y.shape[1]\n",
    "print(\"Output dim\", output_dim)"
   ]
  },
  {
   "cell_type": "code",
   "execution_count": 80,
   "metadata": {},
   "outputs": [],
   "source": [
    "from torch.utils.data import DataLoader\n",
    "\n",
    "train_loader = DataLoader(data_set, batch_size=32, shuffle=False)"
   ]
  },
  {
   "cell_type": "code",
   "execution_count": 114,
   "metadata": {},
   "outputs": [
    {
     "name": "stdout",
     "output_type": "stream",
     "text": [
      "----------------------------------------------------------------\n",
      "        Layer (type)               Output Shape         Param #\n",
      "================================================================\n",
      "            Linear-1               [-1, 1, 128]           7,168\n",
      "              ReLU-2               [-1, 1, 128]               0\n",
      "           Dropout-3               [-1, 1, 128]               0\n",
      "            Linear-4                [-1, 1, 64]           8,256\n",
      "              ReLU-5                [-1, 1, 64]               0\n",
      "           Dropout-6                [-1, 1, 64]               0\n",
      "            Linear-7                 [-1, 1, 9]             585\n",
      "           Softmax-8                 [-1, 1, 9]               0\n",
      "================================================================\n",
      "Total params: 16,009\n",
      "Trainable params: 16,009\n",
      "Non-trainable params: 0\n",
      "----------------------------------------------------------------\n",
      "Input size (MB): 0.00\n",
      "Forward/backward pass size (MB): 0.00\n",
      "Params size (MB): 0.06\n",
      "Estimated Total Size (MB): 0.07\n",
      "----------------------------------------------------------------\n"
     ]
    }
   ],
   "source": [
    "class Model1(nn.Module):\n",
    "    def __init__(self, input_dim, output_dim):\n",
    "        super().__init__()\n",
    "        self.fc1 = nn.Linear(in_features=input_dim, out_features=128) # fully connected layer\n",
    "        self.fc2 = nn.Linear(in_features=128, out_features=64) # fully connected layer\n",
    "        self.fc3 = nn.Linear(in_features=64, out_features=output_dim) # fully connected layer\n",
    "        \n",
    "        self.relu = nn.ReLU()\n",
    "        self.softmax = nn.Softmax(dim=1) # normalize in dim 1\n",
    "        self.dropout = nn.Dropout(0.5)\n",
    "\n",
    "    def forward(self, x):\n",
    "        out = self.relu(self.fc1(x))\n",
    "        out = self.dropout(out)\n",
    "        out = self.relu(self.fc2(out))\n",
    "        out = self.dropout(out)\n",
    "        out = self.softmax(self.fc3(out))\n",
    "        return out\n",
    "\n",
    "# Crear el modelo basado en la arquitectura definida\n",
    "model1 = Model1(input_dim=input_dim, output_dim=output_dim)\n",
    "# Crear el optimizador la una función de error\n",
    "model1_optimizer = torch.optim.Adam(model1.parameters(), lr=0.005)\n",
    "model1_criterion = torch.nn.CrossEntropyLoss()  # Para clasificación multi categórica\n",
    "\n",
    "torchsummary.summary(model1, input_size=(1, input_dim), device='cpu')"
   ]
  },
  {
   "cell_type": "code",
   "execution_count": 115,
   "metadata": {},
   "outputs": [],
   "source": [
    "from torch_helpers import categorical_acc\n",
    "\n",
    "def train(model, train_loader, optimizer, criterion, epochs=100):\n",
    "    # Defino listas para realizar graficas de los resultados\n",
    "    train_loss = []\n",
    "    train_accuracy = []\n",
    "\n",
    "    ## Defino mi loop de entrenamiento\n",
    "\n",
    "    for epoch in range(epochs):\n",
    "\n",
    "        epoch_train_loss = 0.0\n",
    "        epoch_train_accuracy = 0.0\n",
    "\n",
    "        for train_data, train_target in train_loader:\n",
    "\n",
    "            # Seteo los gradientes en cero ya que, por defecto, PyTorch\n",
    "            # los va acumulando\n",
    "            optimizer.zero_grad()\n",
    "\n",
    "            output = model(train_data)\n",
    "\n",
    "            # Computo el error de la salida comparando contra las etiquetas\n",
    "            loss = criterion(output, train_target)\n",
    "\n",
    "            # Almaceno el error del batch para luego tener el error promedio de la epoca\n",
    "            epoch_train_loss += loss.item()\n",
    "\n",
    "            # Computo el nuevo set de gradientes a lo largo de toda la red\n",
    "            loss.backward()\n",
    "\n",
    "            # Realizo el paso de optimizacion actualizando los parametros de toda la red\n",
    "            optimizer.step()\n",
    "            \n",
    "            # Calculo el accuracy del batch\n",
    "            accuracy = categorical_acc(output, train_target)\n",
    "            # Almaceno el accuracy del batch para luego tener el accuracy promedio de la epoca\n",
    "            epoch_train_accuracy += accuracy.item()\n",
    "\n",
    "        # Calculo la media de error y accuracy para la epoca de entrenamiento.\n",
    "        # La longitud de train_loader es igual a la cantidad de batches dentro de una epoca.\n",
    "        epoch_train_loss = epoch_train_loss / len(train_loader)\n",
    "        train_loss.append(epoch_train_loss)\n",
    "        epoch_train_accuracy = epoch_train_accuracy / len(train_loader)        \n",
    "        train_accuracy.append(epoch_train_accuracy)\n",
    "\n",
    "        print(f\"Epoch: {epoch+1}/{epochs} - Train loss {epoch_train_loss:.3f} - Train accuracy {epoch_train_accuracy:.3f}\")\n",
    "\n",
    "    history = {\n",
    "        \"loss\": train_loss,\n",
    "        \"accuracy\": train_accuracy,\n",
    "    }\n",
    "    \n",
    "    return history"
   ]
  },
  {
   "cell_type": "code",
   "execution_count": 116,
   "metadata": {},
   "outputs": [
    {
     "name": "stdout",
     "output_type": "stream",
     "text": [
      "Epoch: 1/120 - Train loss 2.198 - Train accuracy 0.047\n",
      "Epoch: 2/120 - Train loss 2.195 - Train accuracy 0.062\n",
      "Epoch: 3/120 - Train loss 2.192 - Train accuracy 0.225\n",
      "Epoch: 4/120 - Train loss 2.184 - Train accuracy 0.425\n",
      "Epoch: 5/120 - Train loss 2.174 - Train accuracy 0.456\n",
      "Epoch: 6/120 - Train loss 2.172 - Train accuracy 0.472\n",
      "Epoch: 7/120 - Train loss 2.166 - Train accuracy 0.294\n",
      "Epoch: 8/120 - Train loss 2.144 - Train accuracy 0.425\n",
      "Epoch: 9/120 - Train loss 2.128 - Train accuracy 0.441\n",
      "Epoch: 10/120 - Train loss 2.127 - Train accuracy 0.394\n",
      "Epoch: 11/120 - Train loss 2.107 - Train accuracy 0.425\n",
      "Epoch: 12/120 - Train loss 2.077 - Train accuracy 0.409\n",
      "Epoch: 13/120 - Train loss 1.989 - Train accuracy 0.409\n",
      "Epoch: 14/120 - Train loss 1.985 - Train accuracy 0.409\n",
      "Epoch: 15/120 - Train loss 1.958 - Train accuracy 0.494\n",
      "Epoch: 16/120 - Train loss 1.927 - Train accuracy 0.394\n",
      "Epoch: 17/120 - Train loss 1.882 - Train accuracy 0.525\n",
      "Epoch: 18/120 - Train loss 1.903 - Train accuracy 0.588\n",
      "Epoch: 19/120 - Train loss 1.821 - Train accuracy 0.603\n",
      "Epoch: 20/120 - Train loss 1.824 - Train accuracy 0.603\n",
      "Epoch: 21/120 - Train loss 1.782 - Train accuracy 0.719\n",
      "Epoch: 22/120 - Train loss 1.762 - Train accuracy 0.766\n",
      "Epoch: 23/120 - Train loss 1.727 - Train accuracy 0.650\n",
      "Epoch: 24/120 - Train loss 1.703 - Train accuracy 0.781\n",
      "Epoch: 25/120 - Train loss 1.670 - Train accuracy 0.812\n",
      "Epoch: 26/120 - Train loss 1.692 - Train accuracy 0.812\n",
      "Epoch: 27/120 - Train loss 1.639 - Train accuracy 0.859\n",
      "Epoch: 28/120 - Train loss 1.590 - Train accuracy 0.828\n",
      "Epoch: 29/120 - Train loss 1.553 - Train accuracy 0.859\n",
      "Epoch: 30/120 - Train loss 1.543 - Train accuracy 0.859\n",
      "Epoch: 31/120 - Train loss 1.548 - Train accuracy 0.875\n",
      "Epoch: 32/120 - Train loss 1.544 - Train accuracy 0.891\n",
      "Epoch: 33/120 - Train loss 1.501 - Train accuracy 0.906\n",
      "Epoch: 34/120 - Train loss 1.538 - Train accuracy 0.875\n",
      "Epoch: 35/120 - Train loss 1.512 - Train accuracy 0.891\n",
      "Epoch: 36/120 - Train loss 1.471 - Train accuracy 0.922\n",
      "Epoch: 37/120 - Train loss 1.543 - Train accuracy 0.906\n",
      "Epoch: 38/120 - Train loss 1.485 - Train accuracy 0.922\n",
      "Epoch: 39/120 - Train loss 1.477 - Train accuracy 0.906\n",
      "Epoch: 40/120 - Train loss 1.491 - Train accuracy 0.922\n",
      "Epoch: 41/120 - Train loss 1.514 - Train accuracy 0.922\n",
      "Epoch: 42/120 - Train loss 1.455 - Train accuracy 0.953\n",
      "Epoch: 43/120 - Train loss 1.485 - Train accuracy 0.922\n",
      "Epoch: 44/120 - Train loss 1.449 - Train accuracy 0.953\n",
      "Epoch: 45/120 - Train loss 1.481 - Train accuracy 0.922\n",
      "Epoch: 46/120 - Train loss 1.451 - Train accuracy 0.953\n",
      "Epoch: 47/120 - Train loss 1.456 - Train accuracy 0.938\n",
      "Epoch: 48/120 - Train loss 1.441 - Train accuracy 0.969\n",
      "Epoch: 49/120 - Train loss 1.417 - Train accuracy 0.984\n",
      "Epoch: 50/120 - Train loss 1.416 - Train accuracy 0.984\n",
      "Epoch: 51/120 - Train loss 1.415 - Train accuracy 1.000\n",
      "Epoch: 52/120 - Train loss 1.407 - Train accuracy 0.984\n",
      "Epoch: 53/120 - Train loss 1.412 - Train accuracy 0.984\n",
      "Epoch: 54/120 - Train loss 1.407 - Train accuracy 1.000\n",
      "Epoch: 55/120 - Train loss 1.420 - Train accuracy 0.984\n",
      "Epoch: 56/120 - Train loss 1.460 - Train accuracy 0.969\n",
      "Epoch: 57/120 - Train loss 1.413 - Train accuracy 1.000\n",
      "Epoch: 58/120 - Train loss 1.385 - Train accuracy 1.000\n",
      "Epoch: 59/120 - Train loss 1.389 - Train accuracy 1.000\n",
      "Epoch: 60/120 - Train loss 1.405 - Train accuracy 1.000\n",
      "Epoch: 61/120 - Train loss 1.390 - Train accuracy 1.000\n",
      "Epoch: 62/120 - Train loss 1.398 - Train accuracy 1.000\n",
      "Epoch: 63/120 - Train loss 1.409 - Train accuracy 0.984\n",
      "Epoch: 64/120 - Train loss 1.388 - Train accuracy 1.000\n",
      "Epoch: 65/120 - Train loss 1.394 - Train accuracy 1.000\n",
      "Epoch: 66/120 - Train loss 1.395 - Train accuracy 1.000\n",
      "Epoch: 67/120 - Train loss 1.389 - Train accuracy 1.000\n",
      "Epoch: 68/120 - Train loss 1.390 - Train accuracy 1.000\n",
      "Epoch: 69/120 - Train loss 1.381 - Train accuracy 1.000\n",
      "Epoch: 70/120 - Train loss 1.384 - Train accuracy 1.000\n",
      "Epoch: 71/120 - Train loss 1.376 - Train accuracy 1.000\n",
      "Epoch: 72/120 - Train loss 1.378 - Train accuracy 1.000\n",
      "Epoch: 73/120 - Train loss 1.393 - Train accuracy 1.000\n",
      "Epoch: 74/120 - Train loss 1.396 - Train accuracy 0.984\n",
      "Epoch: 75/120 - Train loss 1.379 - Train accuracy 1.000\n",
      "Epoch: 76/120 - Train loss 1.404 - Train accuracy 1.000\n",
      "Epoch: 77/120 - Train loss 1.388 - Train accuracy 1.000\n",
      "Epoch: 78/120 - Train loss 1.378 - Train accuracy 1.000\n",
      "Epoch: 79/120 - Train loss 1.381 - Train accuracy 1.000\n",
      "Epoch: 80/120 - Train loss 1.374 - Train accuracy 1.000\n",
      "Epoch: 81/120 - Train loss 1.387 - Train accuracy 1.000\n",
      "Epoch: 82/120 - Train loss 1.375 - Train accuracy 1.000\n",
      "Epoch: 83/120 - Train loss 1.402 - Train accuracy 1.000\n",
      "Epoch: 84/120 - Train loss 1.379 - Train accuracy 1.000\n",
      "Epoch: 85/120 - Train loss 1.390 - Train accuracy 1.000\n",
      "Epoch: 86/120 - Train loss 1.382 - Train accuracy 1.000\n",
      "Epoch: 87/120 - Train loss 1.373 - Train accuracy 1.000\n",
      "Epoch: 88/120 - Train loss 1.381 - Train accuracy 1.000\n",
      "Epoch: 89/120 - Train loss 1.374 - Train accuracy 1.000\n",
      "Epoch: 90/120 - Train loss 1.374 - Train accuracy 1.000\n",
      "Epoch: 91/120 - Train loss 1.374 - Train accuracy 1.000\n",
      "Epoch: 92/120 - Train loss 1.379 - Train accuracy 1.000\n",
      "Epoch: 93/120 - Train loss 1.373 - Train accuracy 1.000\n",
      "Epoch: 94/120 - Train loss 1.374 - Train accuracy 1.000\n",
      "Epoch: 95/120 - Train loss 1.373 - Train accuracy 1.000\n",
      "Epoch: 96/120 - Train loss 1.380 - Train accuracy 1.000\n",
      "Epoch: 97/120 - Train loss 1.385 - Train accuracy 1.000\n",
      "Epoch: 98/120 - Train loss 1.381 - Train accuracy 0.984\n",
      "Epoch: 99/120 - Train loss 1.377 - Train accuracy 1.000\n",
      "Epoch: 100/120 - Train loss 1.403 - Train accuracy 0.984\n",
      "Epoch: 101/120 - Train loss 1.374 - Train accuracy 1.000\n",
      "Epoch: 102/120 - Train loss 1.375 - Train accuracy 1.000\n",
      "Epoch: 103/120 - Train loss 1.391 - Train accuracy 0.969\n",
      "Epoch: 104/120 - Train loss 1.398 - Train accuracy 1.000\n",
      "Epoch: 105/120 - Train loss 1.375 - Train accuracy 1.000\n",
      "Epoch: 106/120 - Train loss 1.376 - Train accuracy 1.000\n",
      "Epoch: 107/120 - Train loss 1.389 - Train accuracy 0.984\n",
      "Epoch: 108/120 - Train loss 1.379 - Train accuracy 1.000\n",
      "Epoch: 109/120 - Train loss 1.374 - Train accuracy 1.000\n",
      "Epoch: 110/120 - Train loss 1.389 - Train accuracy 0.984\n",
      "Epoch: 111/120 - Train loss 1.377 - Train accuracy 1.000\n",
      "Epoch: 112/120 - Train loss 1.375 - Train accuracy 1.000\n",
      "Epoch: 113/120 - Train loss 1.375 - Train accuracy 1.000\n",
      "Epoch: 114/120 - Train loss 1.373 - Train accuracy 1.000\n",
      "Epoch: 115/120 - Train loss 1.376 - Train accuracy 1.000\n",
      "Epoch: 116/120 - Train loss 1.373 - Train accuracy 1.000\n",
      "Epoch: 117/120 - Train loss 1.378 - Train accuracy 1.000\n",
      "Epoch: 118/120 - Train loss 1.378 - Train accuracy 1.000\n",
      "Epoch: 119/120 - Train loss 1.378 - Train accuracy 1.000\n",
      "Epoch: 120/120 - Train loss 1.373 - Train accuracy 1.000\n"
     ]
    }
   ],
   "source": [
    "history1 = train(model1,\n",
    "                train_loader,\n",
    "                model1_optimizer,\n",
    "                model1_criterion,\n",
    "                epochs=120\n",
    "                )"
   ]
  },
  {
   "cell_type": "code",
   "execution_count": 117,
   "metadata": {},
   "outputs": [
    {
     "data": {
      "image/png": "[encoded data removed]",
      "text/plain": [
       "<Figure size 640x480 with 1 Axes>"
      ]
     },
     "metadata": {},
     "output_type": "display_data"
    }
   ],
   "source": [
    "epoch_count = range(1, len(history1['accuracy']) + 1)\n",
    "sns.lineplot(x=epoch_count,  y=history1['accuracy'], label='train')\n",
    "plt.show()"
   ]
  },
  {
   "cell_type": "code",
   "execution_count": 68,
   "metadata": {},
   "outputs": [],
   "source": [
    "def text_to_tokens(text): \n",
    "    lemma_tokens = []\n",
    "    tokens = nlp(preprocess_clean_text(text.lower()))\n",
    "    for token in tokens:\n",
    "        lemma_tokens.append(token.lemma_)\n",
    "    #print(lemma_tokens)\n",
    "    return lemma_tokens\n",
    "\n",
    "def bag_of_words(text, vocab): \n",
    "    tokens = text_to_tokens(text)\n",
    "    bow = [0] * len(vocab)\n",
    "    for w in tokens: \n",
    "        for idx, word in enumerate(vocab):\n",
    "            if word == w: \n",
    "                bow[idx] = 1\n",
    "    #print(bow)\n",
    "    return np.array(bow)\n",
    "\n",
    "def pred_class(text, vocab, labels): \n",
    "    bow = bag_of_words(text, vocab)\n",
    "    words_recognized = sum(bow)\n",
    "\n",
    "    return_list = []\n",
    "    if words_recognized > 0:\n",
    "        x = torch.from_numpy(np.array([bow]).astype(np.float32))\n",
    "        result = model1(x)[0].detach().numpy()\n",
    "        thresh = 0.2\n",
    "        y_pred = [[idx, res] for idx, res in enumerate(result) if res > thresh]\n",
    "        y_pred.sort(key=lambda x: x[1], reverse=True)\n",
    "\n",
    "        for r in y_pred:\n",
    "            return_list.append(labels[r[0]])\n",
    "            #print(labels[r[0]], r[1])\n",
    "\n",
    "    return return_list\n",
    "\n",
    "def get_response(intents_list, intents_json):\n",
    "    tag = intents_list[0]\n",
    "    list_of_intents = intents_json[\"intents\"]\n",
    "    for i in list_of_intents: \n",
    "        if i[\"tag\"] == tag:\n",
    "            result = \"BOT: \" + random.choice(i[\"responses\"])\n",
    "            break\n",
    "    return result"
   ]
  },
  {
   "cell_type": "code",
   "execution_count": 69,
   "metadata": {},
   "outputs": [
    {
     "name": "stdout",
     "output_type": "stream",
     "text": [
      "BOT: Hola! en que puedo ayudarte?\n"
     ]
    }
   ],
   "source": [
    "message = \"Buenas\"\n",
    "intents = pred_class(message, words, classes)\n",
    "if len(intents) > 0:\n",
    "    result = get_response(intents, dataset)\n",
    "    print(result)"
   ]
  },
  {
   "cell_type": "code",
   "execution_count": 70,
   "metadata": {},
   "outputs": [
    {
     "name": "stdout",
     "output_type": "stream",
     "text": [
      "PREGUNTA:  hola\n",
      "RESPUESTA  BOT: Hola, bienvenido al Hotel Leopard, en que lo ayudo?\n",
      "PREGUNTA:  tienes cochera?\n",
      "RESPUESTA  BOT: El Hotel cuenta con cochera suficiente para todos los huespedes, no se preocupe.\n",
      "PREGUNTA:  el pago puedo hacerlo con tarjeta?\n",
      "RESPUESTA  BOT: Puede realizar la reserva por la pagina web www.leopard-hotel.com ó por medio fisico con tarjeta o transferencia\n",
      "PREGUNTA:  los precios de las habitaciones?\n",
      "RESPUESTA  BOT: Los precios de las habitaciones son las siguientes, habitacion individual a $60, habitacion doble a $100 y habitacion Queen a $160\n",
      "PREGUNTA:  ok gracias\n",
      "RESPUESTA  BOT: Hasta luego!\n",
      "PREGUNTA:  nos vemos\n",
      "RESPUESTA  BOT: Hasta luego!\n"
     ]
    }
   ],
   "source": [
    "while True:\n",
    "    message = input(\"\")\n",
    "    \n",
    "    if message=='exit':\n",
    "        break\n",
    "    \n",
    "    print('PREGUNTA: ',message)\n",
    "    \n",
    "    intents = pred_class(message, words, classes)\n",
    "    if len(intents) > 0:\n",
    "        result = get_response(intents, dataset)\n",
    "        print('RESPUESTA ',result)\n",
    "    else:\n",
    "        print(\"Perdón, no comprendo la pregunta.\")\n",
    "    \n",
    "    "
   ]
  },
  {
   "attachments": {},
   "cell_type": "markdown",
   "metadata": {},
   "source": [
    "Conslusiones:\n",
    "\n",
    "- El modelo implementado para la generación de un bot obtiene respuestas acordes a la solicitud.\n",
    "\n",
    "- El modelo se puede mejorar incrementando los tokens realacionados a cada clase.\n",
    "\n",
    "- La aplicación y los datos utilizados son para una aplicación de brindar información de un Hotel.\n",
    "\n",
    "- Aumentandoi ligeramente la tasa de aprendizaje el modelo logra con mejor precision y en menos epocas."
   ]
  }
 ],
 "metadata": {
  "kernelspec": {
   "display_name": "venvi_nlp",
   "language": "python",
   "name": "python3"
  },
  "language_info": {
   "codemirror_mode": {
    "name": "ipython",
    "version": 3
   },
   "file_extension": ".py",
   "mimetype": "text/x-python",
   "name": "python",
   "nbconvert_exporter": "python",
   "pygments_lexer": "ipython3",
   "version": "3.9.13"
  },
  "orig_nbformat": 4
 },
 "nbformat": 4,
 "nbformat_minor": 2
}
